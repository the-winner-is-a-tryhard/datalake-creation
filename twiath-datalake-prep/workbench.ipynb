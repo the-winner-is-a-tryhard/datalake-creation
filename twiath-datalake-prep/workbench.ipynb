{
 "cells": [
  {
   "metadata": {
    "ExecuteTime": {
     "end_time": "2024-06-30T18:39:54.154256Z",
     "start_time": "2024-06-30T18:39:45.896043Z"
    }
   },
   "cell_type": "code",
   "source": [
    "%pip install pyarrow\n",
    "%pip install boto3\n",
    "%pip install s3fs\n",
    "import pandas as pd\n",
    "import pyarrow"
   ],
   "id": "5fcedf3b8805458a",
   "outputs": [
    {
     "name": "stdout",
     "output_type": "stream",
     "text": [
      "Requirement already satisfied: pyarrow in /Users/scottenriquez/opt/anaconda3/lib/python3.9/site-packages (16.1.0)\r\n",
      "Requirement already satisfied: numpy>=1.16.6 in /Users/scottenriquez/opt/anaconda3/lib/python3.9/site-packages (from pyarrow) (1.20.3)\r\n",
      "Note: you may need to restart the kernel to use updated packages.\n",
      "Requirement already satisfied: boto3 in /Users/scottenriquez/opt/anaconda3/lib/python3.9/site-packages (1.34.136)\r\n",
      "Collecting botocore<1.35.0,>=1.34.136\r\n",
      "  Using cached botocore-1.34.136-py3-none-any.whl (12.4 MB)\r\n",
      "Requirement already satisfied: jmespath<2.0.0,>=0.7.1 in /Users/scottenriquez/opt/anaconda3/lib/python3.9/site-packages (from boto3) (1.0.1)\r\n",
      "Requirement already satisfied: s3transfer<0.11.0,>=0.10.0 in /Users/scottenriquez/opt/anaconda3/lib/python3.9/site-packages (from boto3) (0.10.2)\r\n",
      "Requirement already satisfied: urllib3<1.27,>=1.25.4 in /Users/scottenriquez/opt/anaconda3/lib/python3.9/site-packages (from botocore<1.35.0,>=1.34.136->boto3) (1.26.7)\r\n",
      "Requirement already satisfied: python-dateutil<3.0.0,>=2.1 in /Users/scottenriquez/opt/anaconda3/lib/python3.9/site-packages (from botocore<1.35.0,>=1.34.136->boto3) (2.8.2)\r\n",
      "Requirement already satisfied: six>=1.5 in /Users/scottenriquez/opt/anaconda3/lib/python3.9/site-packages (from python-dateutil<3.0.0,>=2.1->botocore<1.35.0,>=1.34.136->boto3) (1.16.0)\r\n",
      "Installing collected packages: botocore\r\n",
      "  Attempting uninstall: botocore\r\n",
      "    Found existing installation: botocore 1.34.131\r\n",
      "    Uninstalling botocore-1.34.131:\r\n",
      "      Successfully uninstalled botocore-1.34.131\r\n",
      "\u001B[31mERROR: pip's dependency resolver does not currently take into account all the packages that are installed. This behaviour is the source of the following dependency conflicts.\r\n",
      "aiobotocore 2.13.1 requires botocore<1.34.132,>=1.34.70, but you have botocore 1.34.136 which is incompatible.\u001B[0m\r\n",
      "Successfully installed botocore-1.34.136\r\n",
      "Note: you may need to restart the kernel to use updated packages.\n",
      "Requirement already satisfied: s3fs in /Users/scottenriquez/opt/anaconda3/lib/python3.9/site-packages (2024.6.1)\r\n",
      "Requirement already satisfied: aiobotocore<3.0.0,>=2.5.4 in /Users/scottenriquez/opt/anaconda3/lib/python3.9/site-packages (from s3fs) (2.13.1)\r\n",
      "Requirement already satisfied: fsspec==2024.6.1.* in /Users/scottenriquez/opt/anaconda3/lib/python3.9/site-packages (from s3fs) (2024.6.1)\r\n",
      "Requirement already satisfied: aiohttp!=4.0.0a0,!=4.0.0a1 in /Users/scottenriquez/opt/anaconda3/lib/python3.9/site-packages (from s3fs) (3.9.5)\r\n",
      "Collecting botocore<1.34.132,>=1.34.70\r\n",
      "  Using cached botocore-1.34.131-py3-none-any.whl (12.3 MB)\r\n",
      "Requirement already satisfied: aioitertools<1.0.0,>=0.5.1 in /Users/scottenriquez/opt/anaconda3/lib/python3.9/site-packages (from aiobotocore<3.0.0,>=2.5.4->s3fs) (0.11.0)\r\n",
      "Requirement already satisfied: wrapt<2.0.0,>=1.10.10 in /Users/scottenriquez/opt/anaconda3/lib/python3.9/site-packages (from aiobotocore<3.0.0,>=2.5.4->s3fs) (1.12.1)\r\n",
      "Requirement already satisfied: multidict<7.0,>=4.5 in /Users/scottenriquez/opt/anaconda3/lib/python3.9/site-packages (from aiohttp!=4.0.0a0,!=4.0.0a1->s3fs) (6.0.5)\r\n",
      "Requirement already satisfied: attrs>=17.3.0 in /Users/scottenriquez/opt/anaconda3/lib/python3.9/site-packages (from aiohttp!=4.0.0a0,!=4.0.0a1->s3fs) (21.2.0)\r\n",
      "Requirement already satisfied: aiosignal>=1.1.2 in /Users/scottenriquez/opt/anaconda3/lib/python3.9/site-packages (from aiohttp!=4.0.0a0,!=4.0.0a1->s3fs) (1.3.1)\r\n",
      "Requirement already satisfied: frozenlist>=1.1.1 in /Users/scottenriquez/opt/anaconda3/lib/python3.9/site-packages (from aiohttp!=4.0.0a0,!=4.0.0a1->s3fs) (1.4.1)\r\n",
      "Requirement already satisfied: yarl<2.0,>=1.0 in /Users/scottenriquez/opt/anaconda3/lib/python3.9/site-packages (from aiohttp!=4.0.0a0,!=4.0.0a1->s3fs) (1.9.4)\r\n",
      "Requirement already satisfied: async-timeout<5.0,>=4.0 in /Users/scottenriquez/opt/anaconda3/lib/python3.9/site-packages (from aiohttp!=4.0.0a0,!=4.0.0a1->s3fs) (4.0.3)\r\n",
      "Requirement already satisfied: typing_extensions>=4.0 in /Users/scottenriquez/opt/anaconda3/lib/python3.9/site-packages (from aioitertools<1.0.0,>=0.5.1->aiobotocore<3.0.0,>=2.5.4->s3fs) (4.12.2)\r\n",
      "Requirement already satisfied: urllib3<1.27,>=1.25.4 in /Users/scottenriquez/opt/anaconda3/lib/python3.9/site-packages (from botocore<1.34.132,>=1.34.70->aiobotocore<3.0.0,>=2.5.4->s3fs) (1.26.7)\r\n",
      "Requirement already satisfied: jmespath<2.0.0,>=0.7.1 in /Users/scottenriquez/opt/anaconda3/lib/python3.9/site-packages (from botocore<1.34.132,>=1.34.70->aiobotocore<3.0.0,>=2.5.4->s3fs) (1.0.1)\r\n",
      "Requirement already satisfied: python-dateutil<3.0.0,>=2.1 in /Users/scottenriquez/opt/anaconda3/lib/python3.9/site-packages (from botocore<1.34.132,>=1.34.70->aiobotocore<3.0.0,>=2.5.4->s3fs) (2.8.2)\r\n",
      "Requirement already satisfied: six>=1.5 in /Users/scottenriquez/opt/anaconda3/lib/python3.9/site-packages (from python-dateutil<3.0.0,>=2.1->botocore<1.34.132,>=1.34.70->aiobotocore<3.0.0,>=2.5.4->s3fs) (1.16.0)\r\n",
      "Requirement already satisfied: idna>=2.0 in /Users/scottenriquez/opt/anaconda3/lib/python3.9/site-packages (from yarl<2.0,>=1.0->aiohttp!=4.0.0a0,!=4.0.0a1->s3fs) (3.2)\r\n",
      "Installing collected packages: botocore\r\n",
      "  Attempting uninstall: botocore\r\n",
      "    Found existing installation: botocore 1.34.136\r\n",
      "    Uninstalling botocore-1.34.136:\r\n",
      "      Successfully uninstalled botocore-1.34.136\r\n",
      "\u001B[31mERROR: pip's dependency resolver does not currently take into account all the packages that are installed. This behaviour is the source of the following dependency conflicts.\r\n",
      "boto3 1.34.136 requires botocore<1.35.0,>=1.34.136, but you have botocore 1.34.131 which is incompatible.\u001B[0m\r\n",
      "Successfully installed botocore-1.34.131\r\n",
      "Note: you may need to restart the kernel to use updated packages.\n"
     ]
    }
   ],
   "execution_count": 9
  },
  {
   "metadata": {},
   "cell_type": "markdown",
   "source": "## Logan's Legacy Excel Files",
   "id": "d79089ae0b583906"
  },
  {
   "metadata": {
    "ExecuteTime": {
     "end_time": "2024-06-30T18:39:54.425003Z",
     "start_time": "2024-06-30T18:39:54.156214Z"
    }
   },
   "cell_type": "code",
   "source": [
    "nfl_team_load = pd.read_excel('data/nfl-team-load.xlsx')\n",
    "nfl_team_load.head()"
   ],
   "id": "cc9e6724402d32d1",
   "outputs": [
    {
     "data": {
      "text/plain": [
       "   TeamID   Mascot           City\n",
       "0       1    49ers  San Francisco\n",
       "1       2    Bears        Chicago\n",
       "2       3  Bengals     Cincinnati\n",
       "3       4    Bills        Buffalo\n",
       "4       5  Broncos         Denver"
      ],
      "text/html": [
       "<div>\n",
       "<style scoped>\n",
       "    .dataframe tbody tr th:only-of-type {\n",
       "        vertical-align: middle;\n",
       "    }\n",
       "\n",
       "    .dataframe tbody tr th {\n",
       "        vertical-align: top;\n",
       "    }\n",
       "\n",
       "    .dataframe thead th {\n",
       "        text-align: right;\n",
       "    }\n",
       "</style>\n",
       "<table border=\"1\" class=\"dataframe\">\n",
       "  <thead>\n",
       "    <tr style=\"text-align: right;\">\n",
       "      <th></th>\n",
       "      <th>TeamID</th>\n",
       "      <th>Mascot</th>\n",
       "      <th>City</th>\n",
       "    </tr>\n",
       "  </thead>\n",
       "  <tbody>\n",
       "    <tr>\n",
       "      <th>0</th>\n",
       "      <td>1</td>\n",
       "      <td>49ers</td>\n",
       "      <td>San Francisco</td>\n",
       "    </tr>\n",
       "    <tr>\n",
       "      <th>1</th>\n",
       "      <td>2</td>\n",
       "      <td>Bears</td>\n",
       "      <td>Chicago</td>\n",
       "    </tr>\n",
       "    <tr>\n",
       "      <th>2</th>\n",
       "      <td>3</td>\n",
       "      <td>Bengals</td>\n",
       "      <td>Cincinnati</td>\n",
       "    </tr>\n",
       "    <tr>\n",
       "      <th>3</th>\n",
       "      <td>4</td>\n",
       "      <td>Bills</td>\n",
       "      <td>Buffalo</td>\n",
       "    </tr>\n",
       "    <tr>\n",
       "      <th>4</th>\n",
       "      <td>5</td>\n",
       "      <td>Broncos</td>\n",
       "      <td>Denver</td>\n",
       "    </tr>\n",
       "  </tbody>\n",
       "</table>\n",
       "</div>"
      ]
     },
     "execution_count": 10,
     "metadata": {},
     "output_type": "execute_result"
    }
   ],
   "execution_count": 10
  },
  {
   "metadata": {
    "ExecuteTime": {
     "end_time": "2024-06-30T18:39:54.436888Z",
     "start_time": "2024-06-30T18:39:54.426003Z"
    }
   },
   "cell_type": "code",
   "source": [
    "owner_load = pd.read_excel('data/owner-load.xlsx')\n",
    "owner_load.head()"
   ],
   "id": "ef16c4d695d4c4c9",
   "outputs": [
    {
     "data": {
      "text/plain": [
       "   OwnerID FirstName    Lastname\n",
       "0        1    Logan   Richardson\n",
       "1        2     Carl      Meziere\n",
       "2        3    Lenis        David\n",
       "3        4   Phillip    Spurling\n",
       "4        5      Matt    Kniowski"
      ],
      "text/html": [
       "<div>\n",
       "<style scoped>\n",
       "    .dataframe tbody tr th:only-of-type {\n",
       "        vertical-align: middle;\n",
       "    }\n",
       "\n",
       "    .dataframe tbody tr th {\n",
       "        vertical-align: top;\n",
       "    }\n",
       "\n",
       "    .dataframe thead th {\n",
       "        text-align: right;\n",
       "    }\n",
       "</style>\n",
       "<table border=\"1\" class=\"dataframe\">\n",
       "  <thead>\n",
       "    <tr style=\"text-align: right;\">\n",
       "      <th></th>\n",
       "      <th>OwnerID</th>\n",
       "      <th>FirstName</th>\n",
       "      <th>Lastname</th>\n",
       "    </tr>\n",
       "  </thead>\n",
       "  <tbody>\n",
       "    <tr>\n",
       "      <th>0</th>\n",
       "      <td>1</td>\n",
       "      <td>Logan</td>\n",
       "      <td>Richardson</td>\n",
       "    </tr>\n",
       "    <tr>\n",
       "      <th>1</th>\n",
       "      <td>2</td>\n",
       "      <td>Carl</td>\n",
       "      <td>Meziere</td>\n",
       "    </tr>\n",
       "    <tr>\n",
       "      <th>2</th>\n",
       "      <td>3</td>\n",
       "      <td>Lenis</td>\n",
       "      <td>David</td>\n",
       "    </tr>\n",
       "    <tr>\n",
       "      <th>3</th>\n",
       "      <td>4</td>\n",
       "      <td>Phillip</td>\n",
       "      <td>Spurling</td>\n",
       "    </tr>\n",
       "    <tr>\n",
       "      <th>4</th>\n",
       "      <td>5</td>\n",
       "      <td>Matt</td>\n",
       "      <td>Kniowski</td>\n",
       "    </tr>\n",
       "  </tbody>\n",
       "</table>\n",
       "</div>"
      ]
     },
     "execution_count": 11,
     "metadata": {},
     "output_type": "execute_result"
    }
   ],
   "execution_count": 11
  },
  {
   "metadata": {
    "ExecuteTime": {
     "end_time": "2024-06-30T18:39:54.580675Z",
     "start_time": "2024-06-30T18:39:54.438546Z"
    }
   },
   "cell_type": "code",
   "source": [
    "roster_table_load = pd.read_excel('data/roster-table-load.xlsx')\n",
    "roster_table_load.head()"
   ],
   "id": "30ef4de4f850ac17",
   "outputs": [
    {
     "data": {
      "text/plain": [
       "   Owner Id Owner Name  Week_ID      Player Name\n",
       "0         1      Logan   201401        Panthers \n",
       "1         1      Logan   201401   DeMarco Murray\n",
       "2         1      Logan   201401    Pierre Thomas\n",
       "3         1      Logan   201401       Greg Olsen\n",
       "4         1      Logan   201401  Rashad Jennings"
      ],
      "text/html": [
       "<div>\n",
       "<style scoped>\n",
       "    .dataframe tbody tr th:only-of-type {\n",
       "        vertical-align: middle;\n",
       "    }\n",
       "\n",
       "    .dataframe tbody tr th {\n",
       "        vertical-align: top;\n",
       "    }\n",
       "\n",
       "    .dataframe thead th {\n",
       "        text-align: right;\n",
       "    }\n",
       "</style>\n",
       "<table border=\"1\" class=\"dataframe\">\n",
       "  <thead>\n",
       "    <tr style=\"text-align: right;\">\n",
       "      <th></th>\n",
       "      <th>Owner Id</th>\n",
       "      <th>Owner Name</th>\n",
       "      <th>Week_ID</th>\n",
       "      <th>Player Name</th>\n",
       "    </tr>\n",
       "  </thead>\n",
       "  <tbody>\n",
       "    <tr>\n",
       "      <th>0</th>\n",
       "      <td>1</td>\n",
       "      <td>Logan</td>\n",
       "      <td>201401</td>\n",
       "      <td>Panthers</td>\n",
       "    </tr>\n",
       "    <tr>\n",
       "      <th>1</th>\n",
       "      <td>1</td>\n",
       "      <td>Logan</td>\n",
       "      <td>201401</td>\n",
       "      <td>DeMarco Murray</td>\n",
       "    </tr>\n",
       "    <tr>\n",
       "      <th>2</th>\n",
       "      <td>1</td>\n",
       "      <td>Logan</td>\n",
       "      <td>201401</td>\n",
       "      <td>Pierre Thomas</td>\n",
       "    </tr>\n",
       "    <tr>\n",
       "      <th>3</th>\n",
       "      <td>1</td>\n",
       "      <td>Logan</td>\n",
       "      <td>201401</td>\n",
       "      <td>Greg Olsen</td>\n",
       "    </tr>\n",
       "    <tr>\n",
       "      <th>4</th>\n",
       "      <td>1</td>\n",
       "      <td>Logan</td>\n",
       "      <td>201401</td>\n",
       "      <td>Rashad Jennings</td>\n",
       "    </tr>\n",
       "  </tbody>\n",
       "</table>\n",
       "</div>"
      ]
     },
     "execution_count": 12,
     "metadata": {},
     "output_type": "execute_result"
    }
   ],
   "execution_count": 12
  },
  {
   "metadata": {},
   "cell_type": "markdown",
   "source": "## Sleeper Player Data",
   "id": "55f81aa799939194"
  },
  {
   "metadata": {
    "ExecuteTime": {
     "end_time": "2024-06-30T18:39:56.185484Z",
     "start_time": "2024-06-30T18:39:54.581609Z"
    }
   },
   "cell_type": "code",
   "source": [
    "nfl_player_data = pd.read_json('data/players.json').transpose()\n",
    "nfl_player_data.head()"
   ],
   "id": "b37f100ed18e7510",
   "outputs": [
    {
     "data": {
      "text/plain": [
       "     search_full_name years_exp                 metadata sport  \\\n",
       "3992     davecaldwell         0                     None   nfl   \n",
       "6744         gregward         7  {'rookie_year': '2017'}   nfl   \n",
       "1591      alvinbailey         7                     None   nfl   \n",
       "918         nilespaul        11                     None   nfl   \n",
       "4810     kwaydemiller         5                     None   nfl   \n",
       "\n",
       "     search_last_name   news_updated rotoworld_id position first_name  \\\n",
       "3992         caldwell           None         9502     None       Dave   \n",
       "6744             ward  1701897349719        12815       WR       Greg   \n",
       "1591           bailey           None         8690        G      Alvin   \n",
       "918              paul  1565134827397         6661       TE      Niles   \n",
       "4810           miller           None         None       OT     Kwayde   \n",
       "\n",
       "     birth_city  ... injury_body_part last_name depth_chart_position  \\\n",
       "3992       None  ...             None  Caldwell                 None   \n",
       "6744       None  ...             None      Ward                 None   \n",
       "1591       None  ...             None    Bailey                 None   \n",
       "918        None  ...             None      Paul                 None   \n",
       "4810       None  ...             None    Miller                 None   \n",
       "\n",
       "     injury_notes  birth_date  team number injury_status         high_school  \\\n",
       "3992         None        None  None      0          None                None   \n",
       "6744         None  1995-07-12  None     84          None     John Tyler (TX)   \n",
       "1591         None  1991-08-26  None     78          None   Broken Arrow (OK)   \n",
       "918          None  1989-08-09  None      0          None  Millard North (NE)   \n",
       "4810         None  1993-12-11  None     63          None              Ramona   \n",
       "\n",
       "         gsis_id  \n",
       "3992        None  \n",
       "6744  00-0033733  \n",
       "1591        None  \n",
       "918   00-0028093  \n",
       "4810        None  \n",
       "\n",
       "[5 rows x 49 columns]"
      ],
      "text/html": [
       "<div>\n",
       "<style scoped>\n",
       "    .dataframe tbody tr th:only-of-type {\n",
       "        vertical-align: middle;\n",
       "    }\n",
       "\n",
       "    .dataframe tbody tr th {\n",
       "        vertical-align: top;\n",
       "    }\n",
       "\n",
       "    .dataframe thead th {\n",
       "        text-align: right;\n",
       "    }\n",
       "</style>\n",
       "<table border=\"1\" class=\"dataframe\">\n",
       "  <thead>\n",
       "    <tr style=\"text-align: right;\">\n",
       "      <th></th>\n",
       "      <th>search_full_name</th>\n",
       "      <th>years_exp</th>\n",
       "      <th>metadata</th>\n",
       "      <th>sport</th>\n",
       "      <th>search_last_name</th>\n",
       "      <th>news_updated</th>\n",
       "      <th>rotoworld_id</th>\n",
       "      <th>position</th>\n",
       "      <th>first_name</th>\n",
       "      <th>birth_city</th>\n",
       "      <th>...</th>\n",
       "      <th>injury_body_part</th>\n",
       "      <th>last_name</th>\n",
       "      <th>depth_chart_position</th>\n",
       "      <th>injury_notes</th>\n",
       "      <th>birth_date</th>\n",
       "      <th>team</th>\n",
       "      <th>number</th>\n",
       "      <th>injury_status</th>\n",
       "      <th>high_school</th>\n",
       "      <th>gsis_id</th>\n",
       "    </tr>\n",
       "  </thead>\n",
       "  <tbody>\n",
       "    <tr>\n",
       "      <th>3992</th>\n",
       "      <td>davecaldwell</td>\n",
       "      <td>0</td>\n",
       "      <td>None</td>\n",
       "      <td>nfl</td>\n",
       "      <td>caldwell</td>\n",
       "      <td>None</td>\n",
       "      <td>9502</td>\n",
       "      <td>None</td>\n",
       "      <td>Dave</td>\n",
       "      <td>None</td>\n",
       "      <td>...</td>\n",
       "      <td>None</td>\n",
       "      <td>Caldwell</td>\n",
       "      <td>None</td>\n",
       "      <td>None</td>\n",
       "      <td>None</td>\n",
       "      <td>None</td>\n",
       "      <td>0</td>\n",
       "      <td>None</td>\n",
       "      <td>None</td>\n",
       "      <td>None</td>\n",
       "    </tr>\n",
       "    <tr>\n",
       "      <th>6744</th>\n",
       "      <td>gregward</td>\n",
       "      <td>7</td>\n",
       "      <td>{'rookie_year': '2017'}</td>\n",
       "      <td>nfl</td>\n",
       "      <td>ward</td>\n",
       "      <td>1701897349719</td>\n",
       "      <td>12815</td>\n",
       "      <td>WR</td>\n",
       "      <td>Greg</td>\n",
       "      <td>None</td>\n",
       "      <td>...</td>\n",
       "      <td>None</td>\n",
       "      <td>Ward</td>\n",
       "      <td>None</td>\n",
       "      <td>None</td>\n",
       "      <td>1995-07-12</td>\n",
       "      <td>None</td>\n",
       "      <td>84</td>\n",
       "      <td>None</td>\n",
       "      <td>John Tyler (TX)</td>\n",
       "      <td>00-0033733</td>\n",
       "    </tr>\n",
       "    <tr>\n",
       "      <th>1591</th>\n",
       "      <td>alvinbailey</td>\n",
       "      <td>7</td>\n",
       "      <td>None</td>\n",
       "      <td>nfl</td>\n",
       "      <td>bailey</td>\n",
       "      <td>None</td>\n",
       "      <td>8690</td>\n",
       "      <td>G</td>\n",
       "      <td>Alvin</td>\n",
       "      <td>None</td>\n",
       "      <td>...</td>\n",
       "      <td>None</td>\n",
       "      <td>Bailey</td>\n",
       "      <td>None</td>\n",
       "      <td>None</td>\n",
       "      <td>1991-08-26</td>\n",
       "      <td>None</td>\n",
       "      <td>78</td>\n",
       "      <td>None</td>\n",
       "      <td>Broken Arrow (OK)</td>\n",
       "      <td>None</td>\n",
       "    </tr>\n",
       "    <tr>\n",
       "      <th>918</th>\n",
       "      <td>nilespaul</td>\n",
       "      <td>11</td>\n",
       "      <td>None</td>\n",
       "      <td>nfl</td>\n",
       "      <td>paul</td>\n",
       "      <td>1565134827397</td>\n",
       "      <td>6661</td>\n",
       "      <td>TE</td>\n",
       "      <td>Niles</td>\n",
       "      <td>None</td>\n",
       "      <td>...</td>\n",
       "      <td>None</td>\n",
       "      <td>Paul</td>\n",
       "      <td>None</td>\n",
       "      <td>None</td>\n",
       "      <td>1989-08-09</td>\n",
       "      <td>None</td>\n",
       "      <td>0</td>\n",
       "      <td>None</td>\n",
       "      <td>Millard North (NE)</td>\n",
       "      <td>00-0028093</td>\n",
       "    </tr>\n",
       "    <tr>\n",
       "      <th>4810</th>\n",
       "      <td>kwaydemiller</td>\n",
       "      <td>5</td>\n",
       "      <td>None</td>\n",
       "      <td>nfl</td>\n",
       "      <td>miller</td>\n",
       "      <td>None</td>\n",
       "      <td>None</td>\n",
       "      <td>OT</td>\n",
       "      <td>Kwayde</td>\n",
       "      <td>None</td>\n",
       "      <td>...</td>\n",
       "      <td>None</td>\n",
       "      <td>Miller</td>\n",
       "      <td>None</td>\n",
       "      <td>None</td>\n",
       "      <td>1993-12-11</td>\n",
       "      <td>None</td>\n",
       "      <td>63</td>\n",
       "      <td>None</td>\n",
       "      <td>Ramona</td>\n",
       "      <td>None</td>\n",
       "    </tr>\n",
       "  </tbody>\n",
       "</table>\n",
       "<p>5 rows × 49 columns</p>\n",
       "</div>"
      ]
     },
     "execution_count": 13,
     "metadata": {},
     "output_type": "execute_result"
    }
   ],
   "execution_count": 13
  },
  {
   "metadata": {},
   "cell_type": "markdown",
   "source": "## Lambda Function Output Test",
   "id": "dba1eea8343aa683"
  },
  {
   "metadata": {
    "ExecuteTime": {
     "end_time": "2024-06-30T18:39:56.379967Z",
     "start_time": "2024-06-30T18:39:56.186396Z"
    }
   },
   "cell_type": "code",
   "source": [
    "nfl = pd.read_parquet('data/player_data.parquet')\n",
    "nfl.head()"
   ],
   "id": "6c81c7035f628b62",
   "outputs": [
    {
     "data": {
      "text/plain": [
       "           college                                           metadata  \\\n",
       "0             None                                               None   \n",
       "1          Houston  {'injury_override_off_2021_0': None, 'injury_o...   \n",
       "2         Arkansas                                               None   \n",
       "3         Nebraska                                               None   \n",
       "4  San Diego State                                               None   \n",
       "\n",
       "  search_first_name   age  news_updated    oddsjam_id     gsis_id position  \\\n",
       "0              dave   NaN           NaN          None        None     None   \n",
       "1              greg  28.0  1.701897e+12  3349E777E3F6  00-0033733       WR   \n",
       "2             alvin  29.0           NaN          None        None        G   \n",
       "3             niles  32.0  1.565135e+12          None  00-0028093       TE   \n",
       "4            kwayde  28.0           NaN          None        None       OT   \n",
       "\n",
       "   birth_date  rotowire_id  ...  practice_participation practice_description  \\\n",
       "0        None          NaN  ...                    None                 None   \n",
       "1  1995-07-12      11883.0  ...                    None                 None   \n",
       "2  1991-08-26       8704.0  ...                    None                 None   \n",
       "3  1989-08-09       7384.0  ...                    None                 None   \n",
       "4  1993-12-11          NaN  ...                    None                 None   \n",
       "\n",
       "  first_name  player_id number  team  swish_id birth_country weight opta_id  \n",
       "0       Dave       3992    0.0  None       NaN          None           None  \n",
       "1       Greg       6744   84.0  None  741292.0          None    190    None  \n",
       "2      Alvin       1591   78.0  None       NaN          None    320    None  \n",
       "3      Niles        918    0.0  None       NaN          None    242    None  \n",
       "4     Kwayde       4810   63.0  None       NaN          None    315    None  \n",
       "\n",
       "[5 rows x 49 columns]"
      ],
      "text/html": [
       "<div>\n",
       "<style scoped>\n",
       "    .dataframe tbody tr th:only-of-type {\n",
       "        vertical-align: middle;\n",
       "    }\n",
       "\n",
       "    .dataframe tbody tr th {\n",
       "        vertical-align: top;\n",
       "    }\n",
       "\n",
       "    .dataframe thead th {\n",
       "        text-align: right;\n",
       "    }\n",
       "</style>\n",
       "<table border=\"1\" class=\"dataframe\">\n",
       "  <thead>\n",
       "    <tr style=\"text-align: right;\">\n",
       "      <th></th>\n",
       "      <th>college</th>\n",
       "      <th>metadata</th>\n",
       "      <th>search_first_name</th>\n",
       "      <th>age</th>\n",
       "      <th>news_updated</th>\n",
       "      <th>oddsjam_id</th>\n",
       "      <th>gsis_id</th>\n",
       "      <th>position</th>\n",
       "      <th>birth_date</th>\n",
       "      <th>rotowire_id</th>\n",
       "      <th>...</th>\n",
       "      <th>practice_participation</th>\n",
       "      <th>practice_description</th>\n",
       "      <th>first_name</th>\n",
       "      <th>player_id</th>\n",
       "      <th>number</th>\n",
       "      <th>team</th>\n",
       "      <th>swish_id</th>\n",
       "      <th>birth_country</th>\n",
       "      <th>weight</th>\n",
       "      <th>opta_id</th>\n",
       "    </tr>\n",
       "  </thead>\n",
       "  <tbody>\n",
       "    <tr>\n",
       "      <th>0</th>\n",
       "      <td>None</td>\n",
       "      <td>None</td>\n",
       "      <td>dave</td>\n",
       "      <td>NaN</td>\n",
       "      <td>NaN</td>\n",
       "      <td>None</td>\n",
       "      <td>None</td>\n",
       "      <td>None</td>\n",
       "      <td>None</td>\n",
       "      <td>NaN</td>\n",
       "      <td>...</td>\n",
       "      <td>None</td>\n",
       "      <td>None</td>\n",
       "      <td>Dave</td>\n",
       "      <td>3992</td>\n",
       "      <td>0.0</td>\n",
       "      <td>None</td>\n",
       "      <td>NaN</td>\n",
       "      <td>None</td>\n",
       "      <td></td>\n",
       "      <td>None</td>\n",
       "    </tr>\n",
       "    <tr>\n",
       "      <th>1</th>\n",
       "      <td>Houston</td>\n",
       "      <td>{'injury_override_off_2021_0': None, 'injury_o...</td>\n",
       "      <td>greg</td>\n",
       "      <td>28.0</td>\n",
       "      <td>1.701897e+12</td>\n",
       "      <td>3349E777E3F6</td>\n",
       "      <td>00-0033733</td>\n",
       "      <td>WR</td>\n",
       "      <td>1995-07-12</td>\n",
       "      <td>11883.0</td>\n",
       "      <td>...</td>\n",
       "      <td>None</td>\n",
       "      <td>None</td>\n",
       "      <td>Greg</td>\n",
       "      <td>6744</td>\n",
       "      <td>84.0</td>\n",
       "      <td>None</td>\n",
       "      <td>741292.0</td>\n",
       "      <td>None</td>\n",
       "      <td>190</td>\n",
       "      <td>None</td>\n",
       "    </tr>\n",
       "    <tr>\n",
       "      <th>2</th>\n",
       "      <td>Arkansas</td>\n",
       "      <td>None</td>\n",
       "      <td>alvin</td>\n",
       "      <td>29.0</td>\n",
       "      <td>NaN</td>\n",
       "      <td>None</td>\n",
       "      <td>None</td>\n",
       "      <td>G</td>\n",
       "      <td>1991-08-26</td>\n",
       "      <td>8704.0</td>\n",
       "      <td>...</td>\n",
       "      <td>None</td>\n",
       "      <td>None</td>\n",
       "      <td>Alvin</td>\n",
       "      <td>1591</td>\n",
       "      <td>78.0</td>\n",
       "      <td>None</td>\n",
       "      <td>NaN</td>\n",
       "      <td>None</td>\n",
       "      <td>320</td>\n",
       "      <td>None</td>\n",
       "    </tr>\n",
       "    <tr>\n",
       "      <th>3</th>\n",
       "      <td>Nebraska</td>\n",
       "      <td>None</td>\n",
       "      <td>niles</td>\n",
       "      <td>32.0</td>\n",
       "      <td>1.565135e+12</td>\n",
       "      <td>None</td>\n",
       "      <td>00-0028093</td>\n",
       "      <td>TE</td>\n",
       "      <td>1989-08-09</td>\n",
       "      <td>7384.0</td>\n",
       "      <td>...</td>\n",
       "      <td>None</td>\n",
       "      <td>None</td>\n",
       "      <td>Niles</td>\n",
       "      <td>918</td>\n",
       "      <td>0.0</td>\n",
       "      <td>None</td>\n",
       "      <td>NaN</td>\n",
       "      <td>None</td>\n",
       "      <td>242</td>\n",
       "      <td>None</td>\n",
       "    </tr>\n",
       "    <tr>\n",
       "      <th>4</th>\n",
       "      <td>San Diego State</td>\n",
       "      <td>None</td>\n",
       "      <td>kwayde</td>\n",
       "      <td>28.0</td>\n",
       "      <td>NaN</td>\n",
       "      <td>None</td>\n",
       "      <td>None</td>\n",
       "      <td>OT</td>\n",
       "      <td>1993-12-11</td>\n",
       "      <td>NaN</td>\n",
       "      <td>...</td>\n",
       "      <td>None</td>\n",
       "      <td>None</td>\n",
       "      <td>Kwayde</td>\n",
       "      <td>4810</td>\n",
       "      <td>63.0</td>\n",
       "      <td>None</td>\n",
       "      <td>NaN</td>\n",
       "      <td>None</td>\n",
       "      <td>315</td>\n",
       "      <td>None</td>\n",
       "    </tr>\n",
       "  </tbody>\n",
       "</table>\n",
       "<p>5 rows × 49 columns</p>\n",
       "</div>"
      ]
     },
     "execution_count": 14,
     "metadata": {},
     "output_type": "execute_result"
    }
   ],
   "execution_count": 14
  },
  {
   "metadata": {},
   "cell_type": "markdown",
   "source": "## Exploring RDS Snapshot Exports",
   "id": "6a4c8865da896a82"
  },
  {
   "metadata": {
    "ExecuteTime": {
     "end_time": "2024-06-30T18:51:51.860473Z",
     "start_time": "2024-06-30T18:51:50.862777Z"
    }
   },
   "cell_type": "code",
   "source": [
    "scoring = pd.read_parquet('s3://ff-temp-export-testing/useff/nfldb/twiath.scoring/1/part-00000-09562205-da1a-4318-8d92-840212bbffb0-c000.gz.parquet')\n",
    "scoring.head"
   ],
   "id": "2ff9fe500086399e",
   "outputs": [
    {
     "data": {
      "text/plain": [
       "<bound method NDFrame.head of    scoringid  passingyards  interceptionsthrown  rushingyards  tdpass  \\\n",
       "0          1          0.04                 -2.0           0.1     4.0   \n",
       "\n",
       "   twptpassingconversion  tdrush  twoptrushingconversion  tdreception  \\\n",
       "0                    2.0     6.0                     2.0          6.0   \n",
       "\n",
       "   receivingyards  ...  defkickoffreturntd  blockedpuntorfgreturnfortd  \\\n",
       "0             0.1  ...                 4.0                         4.0   \n",
       "\n",
       "   interception  fumbleforced  stuffs  basepoints  oneptreturn  twoptreturn  \\\n",
       "0           2.0           1.0    0.35        12.5          1.0          2.0   \n",
       "\n",
       "   pointsallowed  yardsallowed  \n",
       "0          -0.25         -0.02  \n",
       "\n",
       "[1 rows x 40 columns]>"
      ]
     },
     "execution_count": 20,
     "metadata": {},
     "output_type": "execute_result"
    }
   ],
   "execution_count": 20
  },
  {
   "metadata": {
    "ExecuteTime": {
     "end_time": "2024-06-30T18:44:42.595113Z",
     "start_time": "2024-06-30T18:44:41.289365Z"
    }
   },
   "cell_type": "code",
   "source": [
    "espn_players = pd.read_parquet('s3://ff-temp-export-testing/useff/nfldb/twiath.espn_players/1/part-00000-ebced1e3-abea-4f9d-bc1f-2ff376a086eb-c000.gz.parquet')\n",
    "espn_players.head"
   ],
   "id": "6b0053510421990e",
   "outputs": [
    {
     "data": {
      "text/plain": [
       "<bound method NDFrame.head of       espn_id nfl_team player_first_name player_last_name player_full_name  \\\n",
       "0     3918298      BUF              Josh           Allen        Josh Allen   \n",
       "1       15948      BUF              Matt         Barkley      Matt Barkley   \n",
       "2     3916564      BUF             Tyree         Jackson     Tyree Jackson   \n",
       "3        8479      BUF             Frank            Gore        Frank Gore   \n",
       "4       12514      BUF            LeSean           McCoy      LeSean McCoy   \n",
       "...       ...      ...               ...              ...              ...   \n",
       "2890  3116179      LAR              Nick           Scott        Nick Scott   \n",
       "2891    10481      LAR              Eric          Weddle       Eric Weddle   \n",
       "2892    14993      LAR              Greg        Zuerlein     Greg Zuerlein   \n",
       "2893    15153      LAR            Johnny          Hekker     Johnny Hekker   \n",
       "2894    14676      LAR              Jake        McQuaide     Jake McQuaide   \n",
       "\n",
       "      uniform_number position   age height  weight  years_pro  \\\n",
       "0                 17       QB  23.0   6' 5     237          2   \n",
       "1                  5       QB  28.0   6' 2     227          7   \n",
       "2                  6       QB  21.0   6' 7     249          0   \n",
       "3                 28       RB  36.0   5' 9     212         15   \n",
       "4                 25       RB  30.0  5' 11     210         11   \n",
       "...              ...      ...   ...    ...     ...        ...   \n",
       "2890              46        S  24.0  5' 11     200          0   \n",
       "2891              32        S  34.0  5' 11     195         13   \n",
       "2892               4       PK  31.0   6' 0     191          8   \n",
       "2893               6        P  29.0   6' 5     241          8   \n",
       "2894              44       LS  31.0   6' 2     235          9   \n",
       "\n",
       "               college                                          espn_link  \n",
       "0              Wyoming  http://www.espn.com/nfl/player/_/id/3918298/jo...  \n",
       "1                  USC  http://www.espn.com/nfl/player/_/id/15948/matt...  \n",
       "2              Buffalo  http://www.espn.com/nfl/player/_/id/3916564/ty...  \n",
       "3           Miami (FL)  http://www.espn.com/nfl/player/_/id/8479/frank...  \n",
       "4           Pittsburgh  http://www.espn.com/nfl/player/_/id/12514/lese...  \n",
       "...                ...                                                ...  \n",
       "2890        Penn State  http://www.espn.com/nfl/player/_/id/3116179/ni...  \n",
       "2891              Utah  http://www.espn.com/nfl/player/_/id/10481/eric...  \n",
       "2892  Missouri Western  http://www.espn.com/nfl/player/_/id/14993/greg...  \n",
       "2893      Oregon State  http://www.espn.com/nfl/player/_/id/15153/john...  \n",
       "2894        Ohio State  http://www.espn.com/nfl/player/_/id/14676/jake...  \n",
       "\n",
       "[2895 rows x 13 columns]>"
      ]
     },
     "execution_count": 10,
     "metadata": {},
     "output_type": "execute_result"
    }
   ],
   "execution_count": 10
  },
  {
   "metadata": {
    "ExecuteTime": {
     "end_time": "2024-06-30T18:46:02.083953Z",
     "start_time": "2024-06-30T18:46:01.057803Z"
    }
   },
   "cell_type": "code",
   "source": [
    "league = pd.read_parquet('s3://ff-temp-export-testing/useff/nfldb/twiath.league/1/part-00000-28115986-03ad-457a-a0fd-c7dcfd5f2dac-c000.gz.parquet')\n",
    "league.head"
   ],
   "id": "2da72a0f017626da",
   "outputs": [
    {
     "data": {
      "text/plain": [
       "<bound method NDFrame.head of    leagueid               leaguename\n",
       "0    526113  The Winner is a Tryhard>"
      ]
     },
     "execution_count": 11,
     "metadata": {},
     "output_type": "execute_result"
    }
   ],
   "execution_count": 11
  },
  {
   "metadata": {
    "ExecuteTime": {
     "end_time": "2024-06-30T18:46:39.281484Z",
     "start_time": "2024-06-30T18:46:38.317781Z"
    }
   },
   "cell_type": "code",
   "source": [
    "matchup = pd.read_parquet('s3://ff-temp-export-testing/useff/nfldb/twiath.matchup/1/part-00000-bb3cc925-419e-4dc9-acba-829e1bb21607-c000.gz.parquet')\n",
    "matchup.head"
   ],
   "id": "bfd9164470753dc6",
   "outputs": [
    {
     "data": {
      "text/plain": [
       "<bound method NDFrame.head of      matchupid  awayteam  weekid  hometeam\n",
       "0            1        13   20141        26\n",
       "1            2        49   20141        35\n",
       "2            3        54   20141         3\n",
       "3            4        37   20141        23\n",
       "4            5        41   20141        10\n",
       "..         ...       ...     ...       ...\n",
       "478        479        43  201816        11\n",
       "479        480         7  201816        28\n",
       "480        481        14  201816        51\n",
       "481        482         5  201816        46\n",
       "482        483        25  201816        31\n",
       "\n",
       "[483 rows x 4 columns]>"
      ]
     },
     "execution_count": 12,
     "metadata": {},
     "output_type": "execute_result"
    }
   ],
   "execution_count": 12
  },
  {
   "metadata": {
    "ExecuteTime": {
     "end_time": "2024-06-30T18:47:40.185376Z",
     "start_time": "2024-06-30T18:47:39.213836Z"
    }
   },
   "cell_type": "code",
   "source": [
    "owners = pd.read_parquet('s3://ff-temp-export-testing/useff/nfldb/twiath.owner/1/part-00000-46748adf-bc72-406c-bdc7-c4235bb05fda-c000.gz.parquet')\n",
    "owners.head"
   ],
   "id": "b02745cedd5550a0",
   "outputs": [
    {
     "data": {
      "text/plain": [
       "<bound method NDFrame.head of                                  ownerid firstname     lastname ownername\n",
       "0   0FDF20B0-22B3-44EC-AB01-4A99AA6E055D   Scottie     Enriquez      None\n",
       "1                                      1   Brandon       Cotton      None\n",
       "2                                      2      Neal    Bhattarai      None\n",
       "3   2A9BF930-9EBF-401D-9BF9-309EBFE01D15    Andrew     Carlough      None\n",
       "4                                      3     Dylan    Schonberg      None\n",
       "5                                      4   Phillip     Spurling      None\n",
       "6                                      5      Ryan  Hershberger      None\n",
       "7   5A1E31BA-F26A-49A5-89D9-03125ACBEA54     Caleb      Trantow      None\n",
       "8                                      6     Lenis        David      None\n",
       "9   6CBBEC56-F103-48C7-B3F8-40E4A439A426      Matt     Kniwoski      None\n",
       "10  77565491-E2D8-4BA0-9654-91E2D89BA00A     Chris       Ramsey      None\n",
       "11  7A77775F-314B-4FA7-B777-5F314BAFA724     Logan   Richardson      None\n",
       "12  7BE03E9B-C716-4CD8-A03E-9BC716ECD85E    Travis        James      None\n",
       "13  838BBA2A-EDDB-481E-8BBA-2AEDDBE81EDB    Callen        Trail      None\n",
       "14  8AC9954A-7892-4176-88CE-96FC431E1AE2      John       Yarrow      None\n",
       "15  A14FEDE3-A67C-4C66-BE82-117906AAA11A     Trond          Liu      None\n",
       "16  CE279A1E-1373-44D6-9386-B6D968E77E1B      Mark     Hamilton      None\n",
       "17  E5A1E998-5F9C-4747-AD3E-9CCBA159560B      Carl      Meziere      None>"
      ]
     },
     "execution_count": 13,
     "metadata": {},
     "output_type": "execute_result"
    }
   ],
   "execution_count": 13
  },
  {
   "metadata": {
    "ExecuteTime": {
     "end_time": "2024-06-30T18:48:33.309823Z",
     "start_time": "2024-06-30T18:48:32.658049Z"
    }
   },
   "cell_type": "code",
   "source": [
    "performance = pd.read_parquet('s3://ff-temp-export-testing/useff/nfldb/twiath.performance/1/part-00000-5002e41b-0c6e-416b-9395-8c7c1bcec733-c000.gz.parquet')\n",
    "performance.head"
   ],
   "id": "f6146dba93938745",
   "outputs": [
    {
     "data": {
      "text/plain": [
       "<bound method NDFrame.head of Empty DataFrame\n",
       "Columns: [performanceid, passingyards, interceptionsthrown, rushingyards, tdpass, twptpassingconversion, tdrush, twoptrushingconversion, tdreception, receivingyards, twoptreceivingconversion, kickoffreturntd, puntreturntd, totalfumbles, fumblerecoveredtd, totalfumbleslost, patmade, patmissed, fgmade40_49, fgmissed0_39, fgmade0_39, fgmade50, fgmissed40_49, sack, deffumblereturntd, puntreturntd_1, blockedpuntpatorfg, fumblesrecovered, safety, interceptionreturntd, defkickoffreturntd, blockedpuntorfgreturnfortd, interception, fumbleforced, stuffs, basepoints, ptreturn, pointsallowed, yardsallowed, weekid, playerid]\n",
       "Index: []\n",
       "\n",
       "[0 rows x 41 columns]>"
      ]
     },
     "execution_count": 14,
     "metadata": {},
     "output_type": "execute_result"
    }
   ],
   "execution_count": 14
  },
  {
   "metadata": {
    "ExecuteTime": {
     "end_time": "2024-06-30T18:49:18.254701Z",
     "start_time": "2024-06-30T18:49:17.274808Z"
    }
   },
   "cell_type": "code",
   "source": [
    "player = pd.read_parquet('s3://ff-temp-export-testing/useff/nfldb/twiath.player/1/part-00000-7644afbe-ba8a-43ab-bebd-707331f783ce-c000.gz.parquet')\n",
    "player.head"
   ],
   "id": "64d9c8486a221b45",
   "outputs": [
    {
     "data": {
      "text/plain": [
       "<bound method NDFrame.head of    playerid position     nflteam firstname         lastname\n",
       "0    -16011     D/ST  Colts D/ST     Colts             D/ST\n",
       "1     16040       RB         DET      C.J.        Anderson \n",
       "2     10452       RB         WSH    Adrian        Peterson \n",
       "3     13982       WR         ATL     Julio           Jones \n",
       "4      5536       QB         PIT       Ben  Roethlisberger \n",
       "5     15853       TE         PIT     Vance        McDonald \n",
       "6   3051392       RB         DAL   Ezekiel         Elliott \n",
       "7   2508176       RB         ARI     David         Johnson \n",
       "8   2574808       WR         NYJ     Robby        Anderson >"
      ]
     },
     "execution_count": 15,
     "metadata": {},
     "output_type": "execute_result"
    }
   ],
   "execution_count": 15
  },
  {
   "metadata": {
    "ExecuteTime": {
     "end_time": "2024-06-30T18:50:16.248259Z",
     "start_time": "2024-06-30T18:50:15.358206Z"
    }
   },
   "cell_type": "code",
   "source": [
    "roster = pd.read_parquet('s3://ff-temp-export-testing/useff/nfldb/twiath.roster/1/part-00000-3d11553d-2fef-4308-bfa8-4637942ef13a-c000.gz.parquet')\n",
    "roster.head"
   ],
   "id": "8856f8ac26cad0c1",
   "outputs": [
    {
     "data": {
      "text/plain": [
       "<bound method NDFrame.head of       playerid_espn  teamid  weekid starter_bench playerid_nfldb\n",
       "0                 5       1   20151             S              5\n",
       "1              1097       1   20151             S     00-0016919\n",
       "2              4527       1   20151             S     00-0022127\n",
       "3             13216       1   20151             S     00-0027874\n",
       "4             14881       1   20151             S     00-0029263\n",
       "...             ...     ...     ...           ...            ...\n",
       "7319          11283      54  201417             S     00-0026189\n",
       "7320          14900      54  201417             S     00-0029697\n",
       "7321          15826      54  201417             S     00-0030456\n",
       "7322              0      54  201417             S     00-0031373\n",
       "7323          16794      54  201417             S     00-0031413\n",
       "\n",
       "[7324 rows x 5 columns]>"
      ]
     },
     "execution_count": 17,
     "metadata": {},
     "output_type": "execute_result"
    }
   ],
   "execution_count": 17
  },
  {
   "metadata": {
    "ExecuteTime": {
     "end_time": "2024-06-30T18:50:59.792234Z",
     "start_time": "2024-06-30T18:50:58.801259Z"
    }
   },
   "cell_type": "code",
   "source": [
    "team = pd.read_parquet('s3://ff-temp-export-testing/useff/nfldb/twiath.team/1/part-00000-34af1838-cfc9-4719-b29f-c5a103244552-c000.gz.parquet')\n",
    "team.head"
   ],
   "id": "b375dfdc647b61a3",
   "outputs": [
    {
     "data": {
      "text/plain": [
       "<bound method NDFrame.head of     teamid                         teamname  leagueid  \\\n",
       "0        1           Chronic Masterdeflater    526113   \n",
       "1        2           Julio Let the Dogs Out    526113   \n",
       "2        3                 LickMy GrapeNuts    526113   \n",
       "3        4              King of Tyreek Hill    526113   \n",
       "4        5                   Too Many Rooks    526113   \n",
       "5        6                Devontas' Inferno    526113   \n",
       "6        7                 Pornelius Hubert    526113   \n",
       "7        8          Daks Out For Gronkowski    526113   \n",
       "8        9                  Bulls on Parade    526113   \n",
       "9       10      If You Aint 1st You're Last    526113   \n",
       "10      11       The Schlong Arm of the Law    526113   \n",
       "11      12          JOSH GORDON JOSH GORDON    526113   \n",
       "12      13                    HE HAS RISEN!    526113   \n",
       "13      14                  Obi Wan Mahomie    526113   \n",
       "14      15                  It Ertz So Good    526113   \n",
       "15      16              Commissioner Gordon    526113   \n",
       "16      17                   Odells Kitchen    526113   \n",
       "17      18                    Game of Jones    526113   \n",
       "18      19                      Gronky Kong    526113   \n",
       "19      20               Double Dwayne Bowe    526113   \n",
       "20      21      Chopped Junior chefs better    526113   \n",
       "21      22       All i want for my birthday    526113   \n",
       "22      23     Dodgeball is Matrix, I'm Neo    526113   \n",
       "23      24             Mouth Breathers Inc.    526113   \n",
       "24      25                 The Unstartables    526113   \n",
       "25      26      Luck Her Right in the Percy    526113   \n",
       "26      27               Jamaal My Children    526113   \n",
       "27      28                    World Beaters    526113   \n",
       "28      29     Teenage Mutant Ninja Bortles    526113   \n",
       "29      30                  The Brady Bunch    526113   \n",
       "30      31                   AMERICAN POW6R    526113   \n",
       "31      32      Little John In the Big City    526113   \n",
       "32      33                    Bismo Funyuns    526113   \n",
       "33      34   Sesame Tabby w/ Pug-Fried Rice    526113   \n",
       "34      35                Brown Thunder ATX    526113   \n",
       "35      36               Draftkings Is Life    526113   \n",
       "36      37                   This is for #1    526113   \n",
       "37      38                 Expect A Miracle    526113   \n",
       "38      39            The Uncle of a Nation    526113   \n",
       "39      40                       TD Lockett    526113   \n",
       "40      41                I Mess With texas    526113   \n",
       "41      42                      BEAST CHODE    526113   \n",
       "42      43                  Waiver Wire God    526113   \n",
       "43      44                    True Freshman    526113   \n",
       "44      45                      Dezpacito Â    526113   \n",
       "45      46                Alex Collinoscopy    526113   \n",
       "46      47                  The Romosexuals    526113   \n",
       "47      48            The Manning Faced God    526113   \n",
       "48      49             Running Out Of Ideas    526113   \n",
       "49      50         Kman Drinking FF Hemlock    526113   \n",
       "50      51         Sideshow Bob and his PUP    526113   \n",
       "51      52            Sacko John, Not Trond    526113   \n",
       "52      53               Respect No Pledges    526113   \n",
       "53      54  TikTok TickTock Wazow Loves 8=D    526113   \n",
       "\n",
       "                                 ownerid           ownername  \n",
       "0   2A9BF930-9EBF-401D-9BF9-309EBFE01D15     Andrew Carlough  \n",
       "1   2A9BF930-9EBF-401D-9BF9-309EBFE01D15     Andrew Carlough  \n",
       "2                                      1      Brandon Cotton  \n",
       "3   5A1E31BA-F26A-49A5-89D9-03125ACBEA54       Caleb Trantow  \n",
       "4   5A1E31BA-F26A-49A5-89D9-03125ACBEA54       Caleb Trantow  \n",
       "5   838BBA2A-EDDB-481E-8BBA-2AEDDBE81EDB        Callen Trail  \n",
       "6   838BBA2A-EDDB-481E-8BBA-2AEDDBE81EDB        Callen Trail  \n",
       "7   838BBA2A-EDDB-481E-8BBA-2AEDDBE81EDB        Callen Trail  \n",
       "8   838BBA2A-EDDB-481E-8BBA-2AEDDBE81EDB        Callen Trail  \n",
       "9   838BBA2A-EDDB-481E-8BBA-2AEDDBE81EDB        Callen Trail  \n",
       "10  E5A1E998-5F9C-4747-AD3E-9CCBA159560B        Carl Meziere  \n",
       "11  E5A1E998-5F9C-4747-AD3E-9CCBA159560B        Carl Meziere  \n",
       "12  E5A1E998-5F9C-4747-AD3E-9CCBA159560B        Carl Meziere  \n",
       "13  77565491-E2D8-4BA0-9654-91E2D89BA00A  Christopher Ramsey  \n",
       "14                                     3     Dylan Schonberg  \n",
       "15  8AC9954A-7892-4176-88CE-96FC431E1AE2    Johnathan Yarrow  \n",
       "16  8AC9954A-7892-4176-88CE-96FC431E1AE2    Johnathan Yarrow  \n",
       "17  8AC9954A-7892-4176-88CE-96FC431E1AE2    Johnathan Yarrow  \n",
       "18  8AC9954A-7892-4176-88CE-96FC431E1AE2    Johnathan Yarrow  \n",
       "19  8AC9954A-7892-4176-88CE-96FC431E1AE2    Johnathan Yarrow  \n",
       "20                                     6         Lenis David  \n",
       "21                                     6         Lenis David  \n",
       "22                                     6         Lenis David  \n",
       "23  7A77775F-314B-4FA7-B777-5F314BAFA724    Logan Richardson  \n",
       "24  7A77775F-314B-4FA7-B777-5F314BAFA724    Logan Richardson  \n",
       "25  7A77775F-314B-4FA7-B777-5F314BAFA724    Logan Richardson  \n",
       "26  CE279A1E-1373-44D6-9386-B6D968E77E1B       Mark Hamilton  \n",
       "27  CE279A1E-1373-44D6-9386-B6D968E77E1B       Mark Hamilton  \n",
       "28  CE279A1E-1373-44D6-9386-B6D968E77E1B       Mark Hamilton  \n",
       "29  6CBBEC56-F103-48C7-B3F8-40E4A439A426       Matt Kniowski  \n",
       "30  6CBBEC56-F103-48C7-B3F8-40E4A439A426       Matt Kniowski  \n",
       "31  6CBBEC56-F103-48C7-B3F8-40E4A439A426       Matt Kniowski  \n",
       "32  6CBBEC56-F103-48C7-B3F8-40E4A439A426       Matt Kniowski  \n",
       "33  6CBBEC56-F103-48C7-B3F8-40E4A439A426       Matt Kniowski  \n",
       "34                                     2      Neal Bhattarai  \n",
       "35                                     4    Phillip Spurling  \n",
       "36                                     4    Phillip Spurling  \n",
       "37                                     5    Ryan Hershberger  \n",
       "38                                     5    Ryan Hershberger  \n",
       "39                                     5    Ryan Hershberger  \n",
       "40                                     5    Ryan Hershberger  \n",
       "41  0FDF20B0-22B3-44EC-AB01-4A99AA6E055D    Scottie Enriquez  \n",
       "42  0FDF20B0-22B3-44EC-AB01-4A99AA6E055D    Scottie Enriquez  \n",
       "43  0FDF20B0-22B3-44EC-AB01-4A99AA6E055D    Scottie Enriquez  \n",
       "44  7BE03E9B-C716-4CD8-A03E-9BC716ECD85E        Travis James  \n",
       "45  7BE03E9B-C716-4CD8-A03E-9BC716ECD85E        Travis James  \n",
       "46  7BE03E9B-C716-4CD8-A03E-9BC716ECD85E        Travis James  \n",
       "47  7BE03E9B-C716-4CD8-A03E-9BC716ECD85E        Travis James  \n",
       "48  7BE03E9B-C716-4CD8-A03E-9BC716ECD85E        Travis James  \n",
       "49  A14FEDE3-A67C-4C66-BE82-117906AAA11A           Trond Liu  \n",
       "50  A14FEDE3-A67C-4C66-BE82-117906AAA11A           Trond Liu  \n",
       "51  A14FEDE3-A67C-4C66-BE82-117906AAA11A           Trond Liu  \n",
       "52  A14FEDE3-A67C-4C66-BE82-117906AAA11A           Trond Liu  \n",
       "53  A14FEDE3-A67C-4C66-BE82-117906AAA11A           Trond Liu  >"
      ]
     },
     "execution_count": 18,
     "metadata": {},
     "output_type": "execute_result"
    }
   ],
   "execution_count": 18
  },
  {
   "metadata": {
    "ExecuteTime": {
     "end_time": "2024-06-30T18:51:29.775211Z",
     "start_time": "2024-06-30T18:51:28.783485Z"
    }
   },
   "cell_type": "code",
   "source": [
    "week = pd.read_parquet('s3://ff-temp-export-testing/useff/nfldb/twiath.week/1/part-00000-6a6171bf-7541-4b30-b729-1b49cfd297fc-c000.gz.parquet')\n",
    "week.head"
   ],
   "id": "68e02929c0a8087a",
   "outputs": [
    {
     "data": {
      "text/plain": [
       "<bound method NDFrame.head of     weekid  week  year\n",
       "0    20141     1  2014\n",
       "1    20142     2  2014\n",
       "2    20143     3  2014\n",
       "3    20144     4  2014\n",
       "4    20145     5  2014\n",
       "..     ...   ...   ...\n",
       "76  201812    12  2018\n",
       "77  201813    13  2018\n",
       "78  201814    14  2018\n",
       "79  201815    15  2018\n",
       "80  201816    16  2018\n",
       "\n",
       "[81 rows x 3 columns]>"
      ]
     },
     "execution_count": 19,
     "metadata": {},
     "output_type": "execute_result"
    }
   ],
   "execution_count": 19
  }
 ],
 "metadata": {
  "kernelspec": {
   "display_name": "Python 3",
   "language": "python",
   "name": "python3"
  },
  "language_info": {
   "codemirror_mode": {
    "name": "ipython",
    "version": 2
   },
   "file_extension": ".py",
   "mimetype": "text/x-python",
   "name": "python",
   "nbconvert_exporter": "python",
   "pygments_lexer": "ipython2",
   "version": "2.7.6"
  }
 },
 "nbformat": 4,
 "nbformat_minor": 5
}
