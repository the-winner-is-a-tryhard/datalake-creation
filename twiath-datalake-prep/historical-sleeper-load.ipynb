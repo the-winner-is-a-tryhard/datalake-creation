{
 "cells": [
  {
   "cell_type": "code",
   "id": "initial_id",
   "metadata": {
    "collapsed": true,
    "ExecuteTime": {
     "end_time": "2024-08-03T19:35:09.942591Z",
     "start_time": "2024-08-03T19:35:05.573238Z"
    }
   },
   "source": [
    "%pip install pandas\n",
    "%pip install pyarrow\n",
    "%pip install sleeper-py"
   ],
   "outputs": [
    {
     "name": "stdout",
     "output_type": "stream",
     "text": [
      "Requirement already satisfied: pandas in /Users/scottenriquez/opt/anaconda3/lib/python3.9/site-packages (1.3.4)\r\n",
      "Requirement already satisfied: python-dateutil>=2.7.3 in /Users/scottenriquez/opt/anaconda3/lib/python3.9/site-packages (from pandas) (2.8.2)\r\n",
      "Requirement already satisfied: pytz>=2017.3 in /Users/scottenriquez/opt/anaconda3/lib/python3.9/site-packages (from pandas) (2021.3)\r\n",
      "Requirement already satisfied: numpy>=1.17.3 in /Users/scottenriquez/opt/anaconda3/lib/python3.9/site-packages (from pandas) (1.20.3)\r\n",
      "Requirement already satisfied: six>=1.5 in /Users/scottenriquez/opt/anaconda3/lib/python3.9/site-packages (from python-dateutil>=2.7.3->pandas) (1.16.0)\r\n",
      "Note: you may need to restart the kernel to use updated packages.\n",
      "Requirement already satisfied: pyarrow in /Users/scottenriquez/opt/anaconda3/lib/python3.9/site-packages (16.1.0)\r\n",
      "Requirement already satisfied: numpy>=1.16.6 in /Users/scottenriquez/opt/anaconda3/lib/python3.9/site-packages (from pyarrow) (1.20.3)\r\n",
      "Note: you may need to restart the kernel to use updated packages.\n",
      "Requirement already satisfied: sleeper-py in /Users/scottenriquez/opt/anaconda3/lib/python3.9/site-packages (1.0.1)\r\n",
      "Requirement already satisfied: requests>=2.28.1 in /Users/scottenriquez/opt/anaconda3/lib/python3.9/site-packages (from sleeper-py) (2.32.3)\r\n",
      "Requirement already satisfied: charset-normalizer<4,>=2 in /Users/scottenriquez/opt/anaconda3/lib/python3.9/site-packages (from requests>=2.28.1->sleeper-py) (2.0.4)\r\n",
      "Requirement already satisfied: certifi>=2017.4.17 in /Users/scottenriquez/opt/anaconda3/lib/python3.9/site-packages (from requests>=2.28.1->sleeper-py) (2021.10.8)\r\n",
      "Requirement already satisfied: idna<4,>=2.5 in /Users/scottenriquez/opt/anaconda3/lib/python3.9/site-packages (from requests>=2.28.1->sleeper-py) (3.2)\r\n",
      "Requirement already satisfied: urllib3<3,>=1.21.1 in /Users/scottenriquez/opt/anaconda3/lib/python3.9/site-packages (from requests>=2.28.1->sleeper-py) (1.26.7)\r\n",
      "Note: you may need to restart the kernel to use updated packages.\n"
     ]
    }
   ],
   "execution_count": 10
  },
  {
   "metadata": {
    "ExecuteTime": {
     "end_time": "2024-08-03T19:29:44.794981Z",
     "start_time": "2024-08-03T19:29:43.525382Z"
    }
   },
   "cell_type": "code",
   "source": [
    "import pandas as pd\n",
    "from sleeperpy import *"
   ],
   "id": "34572bc1c1ba24ca",
   "outputs": [],
   "execution_count": 4
  },
  {
   "metadata": {
    "ExecuteTime": {
     "end_time": "2024-08-03T19:42:15.755531Z",
     "start_time": "2024-08-03T19:41:46.984469Z"
    }
   },
   "cell_type": "code",
   "source": [
    "base_s3_path = 's3://datalakestack-datalakebucket0256ea8e-jlou2zsfqxmr/sleeper'\n",
    "past_league_ids = ['541384381865115648', '706690303247065088','784536701455429632','961113588070985728']\n",
    "for index, league_id in enumerate(past_league_ids):\n",
    "    year = index + 2020\n",
    "    rosters = pd.DataFrame(Leagues.get_rosters(league_id))\n",
    "    for week in range(1, 25):\n",
    "        matchups = pd.DataFrame(Leagues.get_matchups(league_id, week))\n",
    "        if not matchups.empty:\n",
    "            week_result = pd.merge(rosters, matchups, on='roster_id', how='inner')\n",
    "            week_result.to_parquet(f'{base_s3_path}/matchups/{year}/{week}/result.parquet', engine='pyarrow')\n",
    "        "
   ],
   "id": "9048bf4ce4ceb3e5",
   "outputs": [],
   "execution_count": 14
  },
  {
   "metadata": {},
   "cell_type": "code",
   "outputs": [],
   "execution_count": null,
   "source": "",
   "id": "82ff7ed3be2228af"
  }
 ],
 "metadata": {
  "kernelspec": {
   "display_name": "Python 3",
   "language": "python",
   "name": "python3"
  },
  "language_info": {
   "codemirror_mode": {
    "name": "ipython",
    "version": 2
   },
   "file_extension": ".py",
   "mimetype": "text/x-python",
   "name": "python",
   "nbconvert_exporter": "python",
   "pygments_lexer": "ipython2",
   "version": "2.7.6"
  }
 },
 "nbformat": 4,
 "nbformat_minor": 5
}
