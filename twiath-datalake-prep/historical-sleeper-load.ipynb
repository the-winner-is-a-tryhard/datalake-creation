{
 "cells": [
  {
   "cell_type": "code",
   "id": "initial_id",
   "metadata": {
    "collapsed": true,
    "ExecuteTime": {
     "end_time": "2024-08-11T17:27:00.764707Z",
     "start_time": "2024-08-11T17:26:56.928251Z"
    }
   },
   "source": [
    "%pip install pandas\n",
    "%pip install pyarrow\n",
    "%pip install sleeper-py"
   ],
   "outputs": [
    {
     "name": "stdout",
     "output_type": "stream",
     "text": [
      "Requirement already satisfied: pandas in /Users/scottenriquez/opt/anaconda3/lib/python3.9/site-packages (1.3.4)\r\n",
      "Requirement already satisfied: python-dateutil>=2.7.3 in /Users/scottenriquez/opt/anaconda3/lib/python3.9/site-packages (from pandas) (2.8.2)\r\n",
      "Requirement already satisfied: pytz>=2017.3 in /Users/scottenriquez/opt/anaconda3/lib/python3.9/site-packages (from pandas) (2021.3)\r\n",
      "Requirement already satisfied: numpy>=1.17.3 in /Users/scottenriquez/opt/anaconda3/lib/python3.9/site-packages (from pandas) (1.20.3)\r\n",
      "Requirement already satisfied: six>=1.5 in /Users/scottenriquez/opt/anaconda3/lib/python3.9/site-packages (from python-dateutil>=2.7.3->pandas) (1.16.0)\r\n",
      "Note: you may need to restart the kernel to use updated packages.\n",
      "Requirement already satisfied: pyarrow in /Users/scottenriquez/opt/anaconda3/lib/python3.9/site-packages (16.1.0)\r\n",
      "Requirement already satisfied: numpy>=1.16.6 in /Users/scottenriquez/opt/anaconda3/lib/python3.9/site-packages (from pyarrow) (1.20.3)\r\n",
      "Note: you may need to restart the kernel to use updated packages.\n",
      "Requirement already satisfied: sleeper-py in /Users/scottenriquez/opt/anaconda3/lib/python3.9/site-packages (1.0.1)\r\n",
      "Requirement already satisfied: requests>=2.28.1 in /Users/scottenriquez/opt/anaconda3/lib/python3.9/site-packages (from sleeper-py) (2.32.3)\r\n",
      "Requirement already satisfied: urllib3<3,>=1.21.1 in /Users/scottenriquez/opt/anaconda3/lib/python3.9/site-packages (from requests>=2.28.1->sleeper-py) (1.26.7)\r\n",
      "Requirement already satisfied: idna<4,>=2.5 in /Users/scottenriquez/opt/anaconda3/lib/python3.9/site-packages (from requests>=2.28.1->sleeper-py) (3.2)\r\n",
      "Requirement already satisfied: charset-normalizer<4,>=2 in /Users/scottenriquez/opt/anaconda3/lib/python3.9/site-packages (from requests>=2.28.1->sleeper-py) (2.0.4)\r\n",
      "Requirement already satisfied: certifi>=2017.4.17 in /Users/scottenriquez/opt/anaconda3/lib/python3.9/site-packages (from requests>=2.28.1->sleeper-py) (2021.10.8)\r\n",
      "Note: you may need to restart the kernel to use updated packages.\n"
     ]
    }
   ],
   "execution_count": 1
  },
  {
   "metadata": {
    "ExecuteTime": {
     "end_time": "2024-08-11T17:27:11.687508Z",
     "start_time": "2024-08-11T17:27:10.542295Z"
    }
   },
   "cell_type": "code",
   "source": [
    "import pandas as pd\n",
    "from sleeperpy import *"
   ],
   "id": "34572bc1c1ba24ca",
   "outputs": [],
   "execution_count": 2
  },
  {
   "metadata": {
    "ExecuteTime": {
     "end_time": "2024-08-11T18:07:17.355599Z",
     "start_time": "2024-08-11T18:06:36.295550Z"
    }
   },
   "cell_type": "code",
   "source": [
    "base_s3_path = 's3://datalakestack-datalakebucket0256ea8e-jlou2zsfqxmr/sleeper'\n",
    "past_league_ids = ['541384381865115648', '706690303247065088','784536701455429632','961113588070985728']\n",
    "for index, league_id in enumerate(past_league_ids):\n",
    "    year = index + 2020\n",
    "    rosters = pd.DataFrame(Leagues.get_rosters(league_id))\n",
    "    for week in range(1, 25):\n",
    "        matchups = pd.DataFrame(Leagues.get_matchups(league_id, week))\n",
    "        if not matchups.empty:\n",
    "            week_result = pd.merge(rosters, matchups, on='roster_id', how='inner')\n",
    "            players_points_list = []\n",
    "            for players_points_week in week_result['players_points'].to_list():\n",
    "                players_points_list.append([{'player_id': player_id, 'points': points} for player_id, points in players_points_week.items()])\n",
    "            week_result['players_points'] = players_points_list\n",
    "            week_result = week_result.drop(columns=['settings', 'metadata'])\n",
    "            week_result.to_parquet(f'{base_s3_path}/matchups/{year}/{week}/result.parquet', engine='pyarrow')"
   ],
   "id": "9048bf4ce4ceb3e5",
   "outputs": [],
   "execution_count": 39
  },
  {
   "metadata": {
    "ExecuteTime": {
     "end_time": "2024-08-11T18:08:02.442301Z",
     "start_time": "2024-08-11T18:07:58.747147Z"
    }
   },
   "cell_type": "code",
   "source": "matchups = pd.read_parquet('s3://datalakestack-datalakebucket0256ea8e-jlou2zsfqxmr/sleeper/matchups/')",
   "id": "82ff7ed3be2228af",
   "outputs": [],
   "execution_count": 40
  },
  {
   "metadata": {
    "ExecuteTime": {
     "end_time": "2024-08-11T18:08:09.094898Z",
     "start_time": "2024-08-11T18:08:09.066965Z"
    }
   },
   "cell_type": "code",
   "source": "print(matchups)",
   "id": "1e859acc676ef7ee",
   "outputs": [
    {
     "name": "stdout",
     "output_type": "stream",
     "text": [
      "   co_owners       keepers           league_id            owner_id player_map  \\\n",
      "0       None  [4137, 4881]  541384381865115648  463128802726244352       None   \n",
      "1       None          None  541384381865115648  586272662465060864       None   \n",
      "2       None  [3242, 4029]  541384381865115648   86916165133549568       None   \n",
      "3       None          None  541384381865115648  602974973434343424       None   \n",
      "4       None        [5012]  541384381865115648  601103930037944320       None   \n",
      "..       ...           ...                 ...                 ...        ...   \n",
      "7       None  [1426, 7611]  961113588070985728  600100762684563456       None   \n",
      "8       None        [2374]  961113588070985728  541051698865418240       None   \n",
      "9       None        [7525]  961113588070985728  586300618197475328       None   \n",
      "10      None          None  961113588070985728  541054017910829056       None   \n",
      "11      None        [6786]  961113588070985728  540275269586792448       None   \n",
      "\n",
      "                                            players_x reserve  roster_id  \\\n",
      "0   [2238, 3895, 4068, 4137, 4881, 5022, 5038, 585...    None          1   \n",
      "1   [1500, 2197, 2315, 2325, 2410, 3200, 4017, 404...    None          2   \n",
      "2   [2374, 3202, 3242, 4029, 4984, 5007, 538, 5844...    None          3   \n",
      "3   [1476, 167, 1793, 1817, 1848, 2216, 2505, 3664...    None          4   \n",
      "4   [1352, 1426, 2431, 3321, 3423, 3594, 5012, 505...    None          5   \n",
      "..                                                ...     ...        ...   \n",
      "7   [1426, 1466, 2078, 4137, 4881, 5045, 5947, 681...    None          8   \n",
      "8   [10225, 10229, 10235, 2374, 3321, 4033, 4098, ...    None          9   \n",
      "9   [4046, 4111, 4234, 6130, 7525, 7569, 8110, 813...    None         10   \n",
      "10  [10222, 3163, 4034, 4983, 5022, 5937, 6943, 69...    None         11   \n",
      "11  [2216, 2309, 4089, 421, 5850, 6786, 6790, 7021...    None         12   \n",
      "\n",
      "                                           starters_x  taxi  points  \\\n",
      "0   [4881, 6156, 6813, 6063, 6803, 5022, 4068, 585...  None   56.67   \n",
      "1   [4017, 2315, 5850, 4040, 2325, 4602, 2410, 219...  None  115.15   \n",
      "2   [4984, 4029, 6790, 538, 5937, 5844, 3242, 6151...  None  100.46   \n",
      "3   [5849, 1476, 1848, 2216, 5846, 2505, 5284, 366...  None   81.06   \n",
      "4   [954, 2431, 6945, 1426, 3321, 5012, 3423, 1352...  None  107.52   \n",
      "..                                                ...   ...     ...   \n",
      "7   [4881, 4137, 8150, 1426, 2078, 1466, 6813, 823...  None  103.91   \n",
      "8   [6768, 8205, 4098, 6801, 10229, 4033, 2374, 33...  None  102.34   \n",
      "9   [4046, 8136, 8155, 9493, 7525, 8131, 9226, 756...  None  115.68   \n",
      "10  [8183, 8138, 9221, 4983, 8112, 5022, 4034, 102...  None   96.88   \n",
      "11  [421, 7608, 8143, 2216, 7596, 4089, 6790, 6786...  None  166.01   \n",
      "\n",
      "                                            players_y custom_points  \\\n",
      "0   [1479, 3199, 4068, 4137, 4881, 4993, 5068, 585...          None   \n",
      "1   [1339, 147, 2197, 2257, 2315, 3200, 4017, 4040...          None   \n",
      "2   [2319, 2374, 2382, 2410, 3242, 344, 4029, 4984...          None   \n",
      "3   [1110, 1408, 1476, 167, 1817, 2216, 2505, 4866...          None   \n",
      "4   [1352, 1426, 24, 3321, 3423, 4455, 5000, 5012,...          None   \n",
      "..                                                ...           ...   \n",
      "7   [1426, 1466, 3199, 4137, 4881, 5045, 5947, 678...          None   \n",
      "8   [10229, 10235, 2374, 3321, 4033, 4098, 4381, 5...          None   \n",
      "9   [2505, 4046, 5046, 5927, 6130, 6845, 7525, 756...          None   \n",
      "10  [2028, 3163, 4034, 4983, 5012, 5937, 6943, 694...          None   \n",
      "11  [11439, 2216, 2309, 5001, 5850, 6786, 6790, 70...          None   \n",
      "\n",
      "    matchup_id                                         starters_y  \\\n",
      "0          6.0  [4881, 5068, 6813, 3199, 1479, 4993, 4137, 585...   \n",
      "1          5.0  [4017, 5850, 5170, 4040, 2197, 1339, 147, 2315...   \n",
      "2          4.0  [4984, 3242, 4029, 2374, 2319, 5844, 5937, 344...   \n",
      "3          3.0  [167, 4866, 1408, 4950, 5846, 2505, 1110, 1817...   \n",
      "4          3.0  [24, 6130, 5052, 3321, 1426, 5012, 1352, 515, NE]   \n",
      "..         ...                                                ...   \n",
      "7          5.0  [4881, 6813, 7611, 9502, 5947, 1466, 3199, 142...   \n",
      "8          2.0  [6768, 5987, 4098, 10229, 3321, 4381, 8205, 68...   \n",
      "9          2.0  [4046, 8155, 8136, 5927, 7569, 8110, 9500, 949...   \n",
      "10         5.0  [2028, 6945, 8138, 5937, 4983, 5012, 6943, 759...   \n",
      "11         1.0  [9758, 5850, 8143, 2216, 2309, 5001, 6786, 679...   \n",
      "\n",
      "                                      starters_points  \\\n",
      "0     [26.5, 1.4, 8.9, 1.7, 3.7, 3.0, 1.7, 3.9, 5.87]   \n",
      "1   [20.82, 31.9, 3.5, 18.9, 2.0, 7.8, 4.6, 11.7, ...   \n",
      "2   [28.18, 12.5, 20.8, 9.2, 4.7, 11.6, 3.7, 8.0, ...   \n",
      "3   [19.46, 6.6, 4.6, 0.0, 15.5, 4.5, 5.3, 14.5, 1...   \n",
      "4   [23.9, 5.3, 8.2, 10.6, 15.1, 17.8, 11.9, 1.1, ...   \n",
      "..                                                ...   \n",
      "7   [12.58, 15.4, 20.9, 26.6, 12.5, 2.9, 0.0, 8.5,...   \n",
      "8   [13.52, 16.3, 9.8, 8.7, 8.5, 18.72, 6.6, 15.0,...   \n",
      "9   [17.8, 8.0, 25.9, 9.8, 12.9, 18.6, 1.5, 4.7, 1...   \n",
      "10  [19.24, 10.1, 5.9, 18.5, 3.9, 12.5, 0.0, 2.4, ...   \n",
      "11  [43.8, 21.8, 10.2, 10.7, 22.4, 22.0, 22.6, 6.4...   \n",
      "\n",
      "                                       players_points  \n",
      "0   [{'player_id': '1479', 'points': 3.7}, {'playe...  \n",
      "1   [{'player_id': '1339', 'points': 7.8}, {'playe...  \n",
      "2   [{'player_id': '2319', 'points': 4.7}, {'playe...  \n",
      "3   [{'player_id': '1110', 'points': 5.3}, {'playe...  \n",
      "4   [{'player_id': '1352', 'points': 11.9}, {'play...  \n",
      "..                                                ...  \n",
      "7   [{'player_id': '1426', 'points': 8.5}, {'playe...  \n",
      "8   [{'player_id': '10229', 'points': 8.7}, {'play...  \n",
      "9   [{'player_id': '2505', 'points': 0.0}, {'playe...  \n",
      "10  [{'player_id': '2028', 'points': 19.24}, {'pla...  \n",
      "11  [{'player_id': '11439', 'points': 0.0}, {'play...  \n",
      "\n",
      "[852 rows x 17 columns]\n"
     ]
    }
   ],
   "execution_count": 41
  },
  {
   "metadata": {},
   "cell_type": "code",
   "outputs": [],
   "execution_count": null,
   "source": "",
   "id": "f79cc804afc51dc6"
  }
 ],
 "metadata": {
  "kernelspec": {
   "display_name": "Python 3",
   "language": "python",
   "name": "python3"
  },
  "language_info": {
   "codemirror_mode": {
    "name": "ipython",
    "version": 2
   },
   "file_extension": ".py",
   "mimetype": "text/x-python",
   "name": "python",
   "nbconvert_exporter": "python",
   "pygments_lexer": "ipython2",
   "version": "2.7.6"
  }
 },
 "nbformat": 4,
 "nbformat_minor": 5
}
