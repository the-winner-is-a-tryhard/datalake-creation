{
 "cells": [
  {
   "cell_type": "code",
   "id": "initial_id",
   "metadata": {
    "collapsed": true,
    "ExecuteTime": {
     "end_time": "2024-08-03T21:44:42.039764Z",
     "start_time": "2024-08-03T21:44:39.245792Z"
    }
   },
   "source": [
    "%pip install pandas\n",
    "%pip install pyarrow"
   ],
   "outputs": [
    {
     "name": "stdout",
     "output_type": "stream",
     "text": [
      "Requirement already satisfied: pandas in /Users/scottenriquez/opt/anaconda3/lib/python3.9/site-packages (1.3.4)\r\n",
      "Requirement already satisfied: python-dateutil>=2.7.3 in /Users/scottenriquez/opt/anaconda3/lib/python3.9/site-packages (from pandas) (2.8.2)\r\n",
      "Requirement already satisfied: pytz>=2017.3 in /Users/scottenriquez/opt/anaconda3/lib/python3.9/site-packages (from pandas) (2021.3)\r\n",
      "Requirement already satisfied: numpy>=1.17.3 in /Users/scottenriquez/opt/anaconda3/lib/python3.9/site-packages (from pandas) (1.20.3)\r\n",
      "Requirement already satisfied: six>=1.5 in /Users/scottenriquez/opt/anaconda3/lib/python3.9/site-packages (from python-dateutil>=2.7.3->pandas) (1.16.0)\r\n",
      "Note: you may need to restart the kernel to use updated packages.\n",
      "Requirement already satisfied: pyarrow in /Users/scottenriquez/opt/anaconda3/lib/python3.9/site-packages (16.1.0)\r\n",
      "Requirement already satisfied: numpy>=1.16.6 in /Users/scottenriquez/opt/anaconda3/lib/python3.9/site-packages (from pyarrow) (1.20.3)\r\n",
      "Note: you may need to restart the kernel to use updated packages.\n"
     ]
    }
   ],
   "execution_count": 1
  },
  {
   "metadata": {
    "ExecuteTime": {
     "end_time": "2024-08-03T21:50:55.010096Z",
     "start_time": "2024-08-03T21:50:53.839378Z"
    }
   },
   "cell_type": "code",
   "source": "import pandas as pd",
   "id": "43766c6f36cf6547",
   "outputs": [],
   "execution_count": 2
  },
  {
   "metadata": {
    "ExecuteTime": {
     "end_time": "2024-08-03T21:51:00.718908Z",
     "start_time": "2024-08-03T21:50:55.788846Z"
    }
   },
   "cell_type": "code",
   "source": "matchups = pd.read_parquet('s3://datalakestack-datalakebucket0256ea8e-jlou2zsfqxmr/sleeper/matchups/')",
   "id": "59b6b6bf76b4f4ce",
   "outputs": [
    {
     "ename": "ArrowTypeError",
     "evalue": "struct fields don't match or are in the wrong order: Input fields: struct<1049: double, 1067: double, 1144: double, 1234: double, 1352: double, 138: double, 1386: double, 1387: double, 1408: double, 1426: double, 1466: double, 1476: double, 1479: double, 1500: double, 167: double, 1689: double, 1793: double, 1817: double, 1825: double, 1833: double, 1992: double, 2028: double, 2118: double, 2133: double, 2161: double, 2197: double, 2216: double, 2238: double, 2251: double, 2257: double, 2309: double, 2315: double, 2319: double, 232: double, 2320: double, 2325: double, 2374: double, 2382: double, 2391: double, 2410: double, 2431: double, 2449: double, 2505: double, 2588: double, 2749: double, 3157: double, 3164: double, 3198: double, 3199: double, 3200: double, 3214: double, 3225: double, 3242: double, 3321: double, 3423: double, 3664: double, 367: double, 3969: double, 4017: double, 4018: double, 4029: double, 4034: double, 4035: double, 4036: double, 4037: double, 4039: double, 4040: double, 4046: double, 4066: double, 4068: double, 4082: double, 4098: double, 4131: double, 4137: double, 4144: double, 4149: double, 4150: double, 4187: double, 4199: double, 421: double, 4217: double, 4273: double, 4351: double, 4381: double, 4455: double, 4602: double, 4663: double, 4881: double, 4950: double, 4951: double, 4981: double, 4983: double, 4984: double, 4988: double, 4993: double, 4994: double, 5000: double, 5012: double, 5022: double, 5038: double, 5052: double, 5122: double, 515: double, 5170: double, 5185: double, 5248: double, 5347: double, 536: double, 5844: double, 5846: double, 5848: double, 5849: double, 5850: double, 5857: double, 5859: double, 5872: double, 5890: double, 5892: double, 5916: double, 5927: double, 5937: double, 5947: double, 5967: double, 5980: double, 5987: double, 6059: double, 6130: double, 6149: double, 6151: double, 6156: double, 6783: double, 6786: double, 6789: double, 6790: double, 6794: double, 6797: double, 6798: double, 6801: double, 6803: double, 6806: double, 6813: double, 6819: double, 6820: double, 6845: double, 6886: double, 6918: double, 6945: double, 6955: double, 7210: double, 830: double, 947: double, 954: double, 96: double, BAL: double, CHI: double, CLE: double, DAL: double, GB: double, IND: double, KC: double, LAR: double, MIA: double, MIN: double, NO: double, NYG: double, PHI: double, PIT: double, SEA: double> output fields: struct<1067: double, 1110: double, 1234: double, 1339: double, 1352: double, 1408: double, 1426: double, 1466: double, 147: double, 1476: double, 1479: double, 1502: double, 167: double, 1689: double, 1817: double, 1825: double, 184: double, 1848: double, 1992: double, 2078: double, 2133: double, 2161: double, 2168: double, 2197: double, 2216: double, 2238: double, 2257: double, 2309: double, 2315: double, 2319: double, 232: double, 2320: double, 2374: double, 2378: double, 2382: double, 2391: double, 24: double, 2410: double, 2449: double, 2505: double, 2588: double, 2749: double, 289: double, 3157: double, 3161: double, 3164: double, 3198: double, 3199: double, 3200: double, 3202: double, 3214: double, 3225: double, 3242: double, 3271: double, 3294: double, 3306: double, 3321: double, 3423: double, 344: double, 367: double, 3969: double, 4017: double, 4018: double, 4029: double, 4034: double, 4035: double, 4037: double, 4039: double, 4040: double, 4046: double, 4066: double, 4068: double, 4098: double, 4131: double, 4137: double, 4146: double, 4152: double, 4157: double, 4199: double, 421: double, 4217: double, 4273: double, 4455: double, 4663: double, 4866: double, 4881: double, 4950: double, 4951: double, 4962: double, 4973: double, 4981: double, 4983: double, 4984: double, 4988: double, 4993: double, 5000: double, 5009: double, 5012: double, 5013: double, 5038: double, 5045: double, 5052: double, 5068: double, 5122: double, 5131: double, 515: double, 5170: double, 5185: double, 538: double, 5549: double, 5844: double, 5846: double, 5848: double, 5849: double, 5850: double, 5854: double, 5857: double, 5859: double, 5872: double, 5878: double, 5890: double, 5892: double, 5916: double, 5917: double, 5927: double, 5937: double, 5967: double, 5987: double, 6011: double, 6130: double, 6148: double, 6149: double, 6151: double, 642: double, 6770: double, 6783: double, 6786: double, 6789: double, 6790: double, 6798: double, 6806: double, 6813: double, 6814: double, 6819: double, 6820: double, 6828: double, 6845: double, 6885: double, 6938: double, 6945: double, 6955: double, 830: double, 947: double, 954: double, 956: double, 96: double, BAL: double, BUF: double, CHI: double, IND: double, KC: double, LAC: double, LAR: double, NE: double, NO: double, PHI: double, PIT: double, SF: double>",
     "output_type": "error",
     "traceback": [
      "\u001B[0;31m---------------------------------------------------------------------------\u001B[0m",
      "\u001B[0;31mArrowTypeError\u001B[0m                            Traceback (most recent call last)",
      "\u001B[0;32m/var/folders/zb/bk9m48f10p7fdgkhk0fh7j5r0000gn/T/ipykernel_20245/664684403.py\u001B[0m in \u001B[0;36m<module>\u001B[0;34m\u001B[0m\n\u001B[0;32m----> 1\u001B[0;31m \u001B[0mmatchups\u001B[0m \u001B[0;34m=\u001B[0m \u001B[0mpd\u001B[0m\u001B[0;34m.\u001B[0m\u001B[0mread_parquet\u001B[0m\u001B[0;34m(\u001B[0m\u001B[0;34m's3://datalakestack-datalakebucket0256ea8e-jlou2zsfqxmr/sleeper/matchups/'\u001B[0m\u001B[0;34m)\u001B[0m\u001B[0;34m\u001B[0m\u001B[0;34m\u001B[0m\u001B[0m\n\u001B[0m",
      "\u001B[0;32m~/opt/anaconda3/lib/python3.9/site-packages/pandas/io/parquet.py\u001B[0m in \u001B[0;36mread_parquet\u001B[0;34m(path, engine, columns, storage_options, use_nullable_dtypes, **kwargs)\u001B[0m\n\u001B[1;32m    493\u001B[0m     \u001B[0mimpl\u001B[0m \u001B[0;34m=\u001B[0m \u001B[0mget_engine\u001B[0m\u001B[0;34m(\u001B[0m\u001B[0mengine\u001B[0m\u001B[0;34m)\u001B[0m\u001B[0;34m\u001B[0m\u001B[0;34m\u001B[0m\u001B[0m\n\u001B[1;32m    494\u001B[0m \u001B[0;34m\u001B[0m\u001B[0m\n\u001B[0;32m--> 495\u001B[0;31m     return impl.read(\n\u001B[0m\u001B[1;32m    496\u001B[0m         \u001B[0mpath\u001B[0m\u001B[0;34m,\u001B[0m\u001B[0;34m\u001B[0m\u001B[0;34m\u001B[0m\u001B[0m\n\u001B[1;32m    497\u001B[0m         \u001B[0mcolumns\u001B[0m\u001B[0;34m=\u001B[0m\u001B[0mcolumns\u001B[0m\u001B[0;34m,\u001B[0m\u001B[0;34m\u001B[0m\u001B[0;34m\u001B[0m\u001B[0m\n",
      "\u001B[0;32m~/opt/anaconda3/lib/python3.9/site-packages/pandas/io/parquet.py\u001B[0m in \u001B[0;36mread\u001B[0;34m(self, path, columns, use_nullable_dtypes, storage_options, **kwargs)\u001B[0m\n\u001B[1;32m    237\u001B[0m         )\n\u001B[1;32m    238\u001B[0m         \u001B[0;32mtry\u001B[0m\u001B[0;34m:\u001B[0m\u001B[0;34m\u001B[0m\u001B[0;34m\u001B[0m\u001B[0m\n\u001B[0;32m--> 239\u001B[0;31m             result = self.api.parquet.read_table(\n\u001B[0m\u001B[1;32m    240\u001B[0m                 \u001B[0mpath_or_handle\u001B[0m\u001B[0;34m,\u001B[0m \u001B[0mcolumns\u001B[0m\u001B[0;34m=\u001B[0m\u001B[0mcolumns\u001B[0m\u001B[0;34m,\u001B[0m \u001B[0;34m**\u001B[0m\u001B[0mkwargs\u001B[0m\u001B[0;34m\u001B[0m\u001B[0;34m\u001B[0m\u001B[0m\n\u001B[1;32m    241\u001B[0m             ).to_pandas(**to_pandas_kwargs)\n",
      "\u001B[0;32m~/opt/anaconda3/lib/python3.9/site-packages/pyarrow/parquet/core.py\u001B[0m in \u001B[0;36mread_table\u001B[0;34m(source, columns, use_threads, schema, use_pandas_metadata, read_dictionary, memory_map, buffer_size, partitioning, filesystem, filters, use_legacy_dataset, ignore_prefixes, pre_buffer, coerce_int96_timestamp_unit, decryption_properties, thrift_string_size_limit, thrift_container_size_limit, page_checksum_verification)\u001B[0m\n\u001B[1;32m   1809\u001B[0m         )\n\u001B[1;32m   1810\u001B[0m \u001B[0;34m\u001B[0m\u001B[0m\n\u001B[0;32m-> 1811\u001B[0;31m     return dataset.read(columns=columns, use_threads=use_threads,\n\u001B[0m\u001B[1;32m   1812\u001B[0m                         use_pandas_metadata=use_pandas_metadata)\n\u001B[1;32m   1813\u001B[0m \u001B[0;34m\u001B[0m\u001B[0m\n",
      "\u001B[0;32m~/opt/anaconda3/lib/python3.9/site-packages/pyarrow/parquet/core.py\u001B[0m in \u001B[0;36mread\u001B[0;34m(self, columns, use_threads, use_pandas_metadata)\u001B[0m\n\u001B[1;32m   1452\u001B[0m                 )\n\u001B[1;32m   1453\u001B[0m \u001B[0;34m\u001B[0m\u001B[0m\n\u001B[0;32m-> 1454\u001B[0;31m         table = self._dataset.to_table(\n\u001B[0m\u001B[1;32m   1455\u001B[0m             \u001B[0mcolumns\u001B[0m\u001B[0;34m=\u001B[0m\u001B[0mcolumns\u001B[0m\u001B[0;34m,\u001B[0m \u001B[0mfilter\u001B[0m\u001B[0;34m=\u001B[0m\u001B[0mself\u001B[0m\u001B[0;34m.\u001B[0m\u001B[0m_filter_expression\u001B[0m\u001B[0;34m,\u001B[0m\u001B[0;34m\u001B[0m\u001B[0;34m\u001B[0m\u001B[0m\n\u001B[1;32m   1456\u001B[0m             \u001B[0muse_threads\u001B[0m\u001B[0;34m=\u001B[0m\u001B[0muse_threads\u001B[0m\u001B[0;34m\u001B[0m\u001B[0;34m\u001B[0m\u001B[0m\n",
      "\u001B[0;32m~/opt/anaconda3/lib/python3.9/site-packages/pyarrow/_dataset.pyx\u001B[0m in \u001B[0;36mpyarrow._dataset.Dataset.to_table\u001B[0;34m()\u001B[0m\n",
      "\u001B[0;32m~/opt/anaconda3/lib/python3.9/site-packages/pyarrow/_dataset.pyx\u001B[0m in \u001B[0;36mpyarrow._dataset.Scanner.to_table\u001B[0;34m()\u001B[0m\n",
      "\u001B[0;32m~/opt/anaconda3/lib/python3.9/site-packages/pyarrow/error.pxi\u001B[0m in \u001B[0;36mpyarrow.lib.pyarrow_internal_check_status\u001B[0;34m()\u001B[0m\n",
      "\u001B[0;32m~/opt/anaconda3/lib/python3.9/site-packages/pyarrow/error.pxi\u001B[0m in \u001B[0;36mpyarrow.lib.check_status\u001B[0;34m()\u001B[0m\n",
      "\u001B[0;31mArrowTypeError\u001B[0m: struct fields don't match or are in the wrong order: Input fields: struct<1049: double, 1067: double, 1144: double, 1234: double, 1352: double, 138: double, 1386: double, 1387: double, 1408: double, 1426: double, 1466: double, 1476: double, 1479: double, 1500: double, 167: double, 1689: double, 1793: double, 1817: double, 1825: double, 1833: double, 1992: double, 2028: double, 2118: double, 2133: double, 2161: double, 2197: double, 2216: double, 2238: double, 2251: double, 2257: double, 2309: double, 2315: double, 2319: double, 232: double, 2320: double, 2325: double, 2374: double, 2382: double, 2391: double, 2410: double, 2431: double, 2449: double, 2505: double, 2588: double, 2749: double, 3157: double, 3164: double, 3198: double, 3199: double, 3200: double, 3214: double, 3225: double, 3242: double, 3321: double, 3423: double, 3664: double, 367: double, 3969: double, 4017: double, 4018: double, 4029: double, 4034: double, 4035: double, 4036: double, 4037: double, 4039: double, 4040: double, 4046: double, 4066: double, 4068: double, 4082: double, 4098: double, 4131: double, 4137: double, 4144: double, 4149: double, 4150: double, 4187: double, 4199: double, 421: double, 4217: double, 4273: double, 4351: double, 4381: double, 4455: double, 4602: double, 4663: double, 4881: double, 4950: double, 4951: double, 4981: double, 4983: double, 4984: double, 4988: double, 4993: double, 4994: double, 5000: double, 5012: double, 5022: double, 5038: double, 5052: double, 5122: double, 515: double, 5170: double, 5185: double, 5248: double, 5347: double, 536: double, 5844: double, 5846: double, 5848: double, 5849: double, 5850: double, 5857: double, 5859: double, 5872: double, 5890: double, 5892: double, 5916: double, 5927: double, 5937: double, 5947: double, 5967: double, 5980: double, 5987: double, 6059: double, 6130: double, 6149: double, 6151: double, 6156: double, 6783: double, 6786: double, 6789: double, 6790: double, 6794: double, 6797: double, 6798: double, 6801: double, 6803: double, 6806: double, 6813: double, 6819: double, 6820: double, 6845: double, 6886: double, 6918: double, 6945: double, 6955: double, 7210: double, 830: double, 947: double, 954: double, 96: double, BAL: double, CHI: double, CLE: double, DAL: double, GB: double, IND: double, KC: double, LAR: double, MIA: double, MIN: double, NO: double, NYG: double, PHI: double, PIT: double, SEA: double> output fields: struct<1067: double, 1110: double, 1234: double, 1339: double, 1352: double, 1408: double, 1426: double, 1466: double, 147: double, 1476: double, 1479: double, 1502: double, 167: double, 1689: double, 1817: double, 1825: double, 184: double, 1848: double, 1992: double, 2078: double, 2133: double, 2161: double, 2168: double, 2197: double, 2216: double, 2238: double, 2257: double, 2309: double, 2315: double, 2319: double, 232: double, 2320: double, 2374: double, 2378: double, 2382: double, 2391: double, 24: double, 2410: double, 2449: double, 2505: double, 2588: double, 2749: double, 289: double, 3157: double, 3161: double, 3164: double, 3198: double, 3199: double, 3200: double, 3202: double, 3214: double, 3225: double, 3242: double, 3271: double, 3294: double, 3306: double, 3321: double, 3423: double, 344: double, 367: double, 3969: double, 4017: double, 4018: double, 4029: double, 4034: double, 4035: double, 4037: double, 4039: double, 4040: double, 4046: double, 4066: double, 4068: double, 4098: double, 4131: double, 4137: double, 4146: double, 4152: double, 4157: double, 4199: double, 421: double, 4217: double, 4273: double, 4455: double, 4663: double, 4866: double, 4881: double, 4950: double, 4951: double, 4962: double, 4973: double, 4981: double, 4983: double, 4984: double, 4988: double, 4993: double, 5000: double, 5009: double, 5012: double, 5013: double, 5038: double, 5045: double, 5052: double, 5068: double, 5122: double, 5131: double, 515: double, 5170: double, 5185: double, 538: double, 5549: double, 5844: double, 5846: double, 5848: double, 5849: double, 5850: double, 5854: double, 5857: double, 5859: double, 5872: double, 5878: double, 5890: double, 5892: double, 5916: double, 5917: double, 5927: double, 5937: double, 5967: double, 5987: double, 6011: double, 6130: double, 6148: double, 6149: double, 6151: double, 642: double, 6770: double, 6783: double, 6786: double, 6789: double, 6790: double, 6798: double, 6806: double, 6813: double, 6814: double, 6819: double, 6820: double, 6828: double, 6845: double, 6885: double, 6938: double, 6945: double, 6955: double, 830: double, 947: double, 954: double, 956: double, 96: double, BAL: double, BUF: double, CHI: double, IND: double, KC: double, LAC: double, LAR: double, NE: double, NO: double, PHI: double, PIT: double, SF: double>"
     ]
    }
   ],
   "execution_count": 3
  },
  {
   "metadata": {},
   "cell_type": "code",
   "outputs": [],
   "execution_count": null,
   "source": "matchups.shape",
   "id": "b2105593b4b4c57"
  }
 ],
 "metadata": {
  "kernelspec": {
   "display_name": "Python 3",
   "language": "python",
   "name": "python3"
  },
  "language_info": {
   "codemirror_mode": {
    "name": "ipython",
    "version": 2
   },
   "file_extension": ".py",
   "mimetype": "text/x-python",
   "name": "python",
   "nbconvert_exporter": "python",
   "pygments_lexer": "ipython2",
   "version": "2.7.6"
  }
 },
 "nbformat": 4,
 "nbformat_minor": 5
}
