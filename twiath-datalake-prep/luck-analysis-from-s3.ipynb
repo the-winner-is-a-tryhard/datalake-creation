{
 "cells": [
  {
   "cell_type": "code",
   "id": "initial_id",
   "metadata": {
    "collapsed": true,
    "ExecuteTime": {
     "end_time": "2024-08-11T20:54:33.088282Z",
     "start_time": "2024-08-11T20:54:30.396857Z"
    }
   },
   "source": [
    "%pip install pandas\n",
    "%pip install pyarrow"
   ],
   "outputs": [
    {
     "name": "stdout",
     "output_type": "stream",
     "text": [
      "Requirement already satisfied: pandas in /Users/scottenriquez/opt/anaconda3/lib/python3.9/site-packages (1.3.4)\r\n",
      "Requirement already satisfied: python-dateutil>=2.7.3 in /Users/scottenriquez/opt/anaconda3/lib/python3.9/site-packages (from pandas) (2.8.2)\r\n",
      "Requirement already satisfied: pytz>=2017.3 in /Users/scottenriquez/opt/anaconda3/lib/python3.9/site-packages (from pandas) (2021.3)\r\n",
      "Requirement already satisfied: numpy>=1.17.3 in /Users/scottenriquez/opt/anaconda3/lib/python3.9/site-packages (from pandas) (1.20.3)\r\n",
      "Requirement already satisfied: six>=1.5 in /Users/scottenriquez/opt/anaconda3/lib/python3.9/site-packages (from python-dateutil>=2.7.3->pandas) (1.16.0)\r\n",
      "Note: you may need to restart the kernel to use updated packages.\n",
      "Requirement already satisfied: pyarrow in /Users/scottenriquez/opt/anaconda3/lib/python3.9/site-packages (16.1.0)\r\n",
      "Requirement already satisfied: numpy>=1.16.6 in /Users/scottenriquez/opt/anaconda3/lib/python3.9/site-packages (from pyarrow) (1.20.3)\r\n",
      "Note: you may need to restart the kernel to use updated packages.\n"
     ]
    }
   ],
   "execution_count": 1
  },
  {
   "metadata": {
    "ExecuteTime": {
     "end_time": "2024-08-11T20:54:35.786622Z",
     "start_time": "2024-08-11T20:54:34.568296Z"
    }
   },
   "cell_type": "code",
   "source": [
    "import pandas as pd\n",
    "from sleeperpy import User"
   ],
   "id": "43766c6f36cf6547",
   "outputs": [],
   "execution_count": 2
  },
  {
   "metadata": {
    "ExecuteTime": {
     "end_time": "2024-08-11T20:54:41.584383Z",
     "start_time": "2024-08-11T20:54:36.709385Z"
    }
   },
   "cell_type": "code",
   "source": "matchups = pd.read_parquet('s3://datalakestack-datalakebucket0256ea8e-jlou2zsfqxmr/sleeper/matchups/')",
   "id": "59b6b6bf76b4f4ce",
   "outputs": [],
   "execution_count": 3
  },
  {
   "metadata": {
    "ExecuteTime": {
     "end_time": "2024-08-11T20:54:44.679595Z",
     "start_time": "2024-08-11T20:54:42.414506Z"
    }
   },
   "cell_type": "code",
   "source": [
    "owner_list = []\n",
    "for owner_id in matchups['owner_id'].unique():\n",
    "    owner_list.append(User.get_user(owner_id))\n",
    "owners = pd.DataFrame(owner_list)\n",
    "matchups = pd.merge(matchups, owners, left_on='owner_id', right_on='user_id', how='inner')"
   ],
   "id": "b2105593b4b4c57",
   "outputs": [],
   "execution_count": 4
  },
  {
   "metadata": {
    "ExecuteTime": {
     "end_time": "2024-08-11T20:54:45.614676Z",
     "start_time": "2024-08-11T20:54:45.605408Z"
    }
   },
   "cell_type": "code",
   "source": "matchups.columns",
   "id": "27c7b264310b1ca",
   "outputs": [
    {
     "data": {
      "text/plain": [
       "Index(['co_owners', 'keepers', 'league_id', 'owner_id', 'player_map',\n",
       "       'players_x', 'reserve', 'roster_id', 'starters_x', 'taxi', 'points',\n",
       "       'players_y', 'custom_points', 'matchup_id', 'starters_y',\n",
       "       'starters_points', 'players_points', 'week', 'year', 'type', 'avatar',\n",
       "       'cookies', 'created', 'currencies', 'data_updated', 'deleted',\n",
       "       'display_name', 'email', 'is_bot', 'metadata', 'notifications',\n",
       "       'pending', 'phone', 'real_name', 'solicitable', 'summoner_name',\n",
       "       'summoner_region', 'token', 'user_id', 'username', 'verification'],\n",
       "      dtype='object')"
      ]
     },
     "execution_count": 5,
     "metadata": {},
     "output_type": "execute_result"
    }
   ],
   "execution_count": 5
  },
  {
   "metadata": {
    "ExecuteTime": {
     "end_time": "2024-08-11T21:18:58.698574Z",
     "start_time": "2024-08-11T21:18:58.682398Z"
    }
   },
   "cell_type": "code",
   "source": "matchups.loc[matchups['week'] == 1].loc[matchups['year'] == 2023].loc[matchups['username'] == 'exoentropy']",
   "id": "e1f9963e645098f",
   "outputs": [
    {
     "data": {
      "text/plain": [
       "    co_owners       keepers           league_id            owner_id  \\\n",
       "479      None  [6794, 8151]  961113588070985728  586035702630752256   \n",
       "\n",
       "    player_map                                          players_x reserve  \\\n",
       "479       None  [11199, 3294, 4217, 5846, 5927, 6794, 6826, 68...    None   \n",
       "\n",
       "     roster_id                                         starters_x  taxi  ...  \\\n",
       "479          7  [3294, 8151, 9509, 5846, 6794, 4217, 7588, 592...  None  ...   \n",
       "\n",
       "     pending phone real_name  solicitable summoner_name summoner_region token  \\\n",
       "479     None  None      None         None          None            None  None   \n",
       "\n",
       "                user_id    username verification  \n",
       "479  586035702630752256  exoentropy         None  \n",
       "\n",
       "[1 rows x 41 columns]"
      ],
      "text/html": [
       "<div>\n",
       "<style scoped>\n",
       "    .dataframe tbody tr th:only-of-type {\n",
       "        vertical-align: middle;\n",
       "    }\n",
       "\n",
       "    .dataframe tbody tr th {\n",
       "        vertical-align: top;\n",
       "    }\n",
       "\n",
       "    .dataframe thead th {\n",
       "        text-align: right;\n",
       "    }\n",
       "</style>\n",
       "<table border=\"1\" class=\"dataframe\">\n",
       "  <thead>\n",
       "    <tr style=\"text-align: right;\">\n",
       "      <th></th>\n",
       "      <th>co_owners</th>\n",
       "      <th>keepers</th>\n",
       "      <th>league_id</th>\n",
       "      <th>owner_id</th>\n",
       "      <th>player_map</th>\n",
       "      <th>players_x</th>\n",
       "      <th>reserve</th>\n",
       "      <th>roster_id</th>\n",
       "      <th>starters_x</th>\n",
       "      <th>taxi</th>\n",
       "      <th>...</th>\n",
       "      <th>pending</th>\n",
       "      <th>phone</th>\n",
       "      <th>real_name</th>\n",
       "      <th>solicitable</th>\n",
       "      <th>summoner_name</th>\n",
       "      <th>summoner_region</th>\n",
       "      <th>token</th>\n",
       "      <th>user_id</th>\n",
       "      <th>username</th>\n",
       "      <th>verification</th>\n",
       "    </tr>\n",
       "  </thead>\n",
       "  <tbody>\n",
       "    <tr>\n",
       "      <th>479</th>\n",
       "      <td>None</td>\n",
       "      <td>[6794, 8151]</td>\n",
       "      <td>961113588070985728</td>\n",
       "      <td>586035702630752256</td>\n",
       "      <td>None</td>\n",
       "      <td>[11199, 3294, 4217, 5846, 5927, 6794, 6826, 68...</td>\n",
       "      <td>None</td>\n",
       "      <td>7</td>\n",
       "      <td>[3294, 8151, 9509, 5846, 6794, 4217, 7588, 592...</td>\n",
       "      <td>None</td>\n",
       "      <td>...</td>\n",
       "      <td>None</td>\n",
       "      <td>None</td>\n",
       "      <td>None</td>\n",
       "      <td>None</td>\n",
       "      <td>None</td>\n",
       "      <td>None</td>\n",
       "      <td>None</td>\n",
       "      <td>586035702630752256</td>\n",
       "      <td>exoentropy</td>\n",
       "      <td>None</td>\n",
       "    </tr>\n",
       "  </tbody>\n",
       "</table>\n",
       "<p>1 rows × 41 columns</p>\n",
       "</div>"
      ]
     },
     "execution_count": 10,
     "metadata": {},
     "output_type": "execute_result"
    }
   ],
   "execution_count": 10
  },
  {
   "metadata": {
    "ExecuteTime": {
     "end_time": "2024-08-11T21:24:12.015351Z",
     "start_time": "2024-08-11T21:24:12.010813Z"
    }
   },
   "cell_type": "code",
   "source": "",
   "id": "e07336be751a3ac7",
   "outputs": [
    {
     "name": "stdout",
     "output_type": "stream",
     "text": [
      "co_owners\n",
      "keepers\n",
      "league_id\n",
      "owner_id\n",
      "player_map\n",
      "players_x\n",
      "reserve\n",
      "roster_id\n",
      "starters_x\n",
      "taxi\n",
      "points\n",
      "players_y\n",
      "custom_points\n",
      "matchup_id\n",
      "starters_y\n",
      "starters_points\n",
      "players_points\n",
      "week\n",
      "year\n",
      "type\n",
      "avatar\n",
      "cookies\n",
      "created\n",
      "currencies\n",
      "data_updated\n",
      "deleted\n",
      "display_name\n",
      "email\n",
      "is_bot\n",
      "metadata\n",
      "notifications\n",
      "pending\n",
      "phone\n",
      "real_name\n",
      "solicitable\n",
      "summoner_name\n",
      "summoner_region\n",
      "token\n",
      "user_id\n",
      "username\n",
      "verification\n"
     ]
    }
   ],
   "execution_count": 12
  },
  {
   "metadata": {
    "ExecuteTime": {
     "end_time": "2024-08-11T20:55:02.996439Z",
     "start_time": "2024-08-11T20:55:02.990513Z"
    }
   },
   "cell_type": "code",
   "source": "matchups.loc[matchups['type'] == 'regular'].groupby(['username'])['points'].sum()",
   "id": "cfc13b9df0faf8e5",
   "outputs": [
    {
     "data": {
      "text/plain": [
       "username\n",
       "acarlough        5510.57\n",
       "almostwinning    5289.02\n",
       "bigoledoinks     5377.96\n",
       "callentrail      5687.97\n",
       "coolguytrav      5613.28\n",
       "cramseyio        5371.52\n",
       "exoentropy       5779.41\n",
       "jyarrow          5406.19\n",
       "lrich91          4995.96\n",
       "markhambone      5570.60\n",
       "mattkman         5413.31\n",
       "novaprice        5510.96\n",
       "Name: points, dtype: float64"
      ]
     },
     "execution_count": 7,
     "metadata": {},
     "output_type": "execute_result"
    }
   ],
   "execution_count": 7
  },
  {
   "metadata": {
    "ExecuteTime": {
     "end_time": "2024-08-11T21:09:11.289129Z",
     "start_time": "2024-08-11T21:09:11.282210Z"
    }
   },
   "cell_type": "code",
   "source": "matchups.loc[matchups['type'] == 'playoff'].groupby(['username'])['points'].sum()",
   "id": "8a115b0e61a785e",
   "outputs": [
    {
     "data": {
      "text/plain": [
       "username\n",
       "acarlough        1363.15\n",
       "almostwinning    1441.71\n",
       "bigoledoinks     1474.59\n",
       "callentrail      1589.59\n",
       "coolguytrav      1472.75\n",
       "cramseyio        1417.09\n",
       "exoentropy       1582.88\n",
       "jyarrow          1356.66\n",
       "lrich91          1404.21\n",
       "markhambone      1631.08\n",
       "mattkman         1676.75\n",
       "novaprice        1593.44\n",
       "Name: points, dtype: float64"
      ]
     },
     "execution_count": 8,
     "metadata": {},
     "output_type": "execute_result"
    }
   ],
   "execution_count": 8
  },
  {
   "metadata": {},
   "cell_type": "code",
   "outputs": [],
   "execution_count": null,
   "source": "",
   "id": "a3687a9ef5596364"
  }
 ],
 "metadata": {
  "kernelspec": {
   "display_name": "Python 3",
   "language": "python",
   "name": "python3"
  },
  "language_info": {
   "codemirror_mode": {
    "name": "ipython",
    "version": 2
   },
   "file_extension": ".py",
   "mimetype": "text/x-python",
   "name": "python",
   "nbconvert_exporter": "python",
   "pygments_lexer": "ipython2",
   "version": "2.7.6"
  }
 },
 "nbformat": 4,
 "nbformat_minor": 5
}
