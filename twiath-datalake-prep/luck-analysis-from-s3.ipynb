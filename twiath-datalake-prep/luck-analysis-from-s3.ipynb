{
 "cells": [
  {
   "cell_type": "code",
   "id": "initial_id",
   "metadata": {
    "collapsed": true,
    "ExecuteTime": {
     "end_time": "2024-08-11T20:54:33.088282Z",
     "start_time": "2024-08-11T20:54:30.396857Z"
    }
   },
   "source": [
    "%pip install pandas\n",
    "%pip install pyarrow"
   ],
   "outputs": [
    {
     "name": "stdout",
     "output_type": "stream",
     "text": [
      "Requirement already satisfied: pandas in /Users/scottenriquez/opt/anaconda3/lib/python3.9/site-packages (1.3.4)\r\n",
      "Requirement already satisfied: python-dateutil>=2.7.3 in /Users/scottenriquez/opt/anaconda3/lib/python3.9/site-packages (from pandas) (2.8.2)\r\n",
      "Requirement already satisfied: pytz>=2017.3 in /Users/scottenriquez/opt/anaconda3/lib/python3.9/site-packages (from pandas) (2021.3)\r\n",
      "Requirement already satisfied: numpy>=1.17.3 in /Users/scottenriquez/opt/anaconda3/lib/python3.9/site-packages (from pandas) (1.20.3)\r\n",
      "Requirement already satisfied: six>=1.5 in /Users/scottenriquez/opt/anaconda3/lib/python3.9/site-packages (from python-dateutil>=2.7.3->pandas) (1.16.0)\r\n",
      "Note: you may need to restart the kernel to use updated packages.\n",
      "Requirement already satisfied: pyarrow in /Users/scottenriquez/opt/anaconda3/lib/python3.9/site-packages (16.1.0)\r\n",
      "Requirement already satisfied: numpy>=1.16.6 in /Users/scottenriquez/opt/anaconda3/lib/python3.9/site-packages (from pyarrow) (1.20.3)\r\n",
      "Note: you may need to restart the kernel to use updated packages.\n"
     ]
    }
   ],
   "execution_count": 1
  },
  {
   "metadata": {
    "ExecuteTime": {
     "end_time": "2024-08-11T20:54:35.786622Z",
     "start_time": "2024-08-11T20:54:34.568296Z"
    }
   },
   "cell_type": "code",
   "source": [
    "import pandas as pd\n",
    "from sleeperpy import User"
   ],
   "id": "43766c6f36cf6547",
   "outputs": [],
   "execution_count": 2
  },
  {
   "metadata": {
    "ExecuteTime": {
     "end_time": "2024-08-11T20:54:41.584383Z",
     "start_time": "2024-08-11T20:54:36.709385Z"
    }
   },
   "cell_type": "code",
   "source": "matchups = pd.read_parquet('s3://datalakestack-datalakebucket0256ea8e-jlou2zsfqxmr/sleeper/matchups/')",
   "id": "59b6b6bf76b4f4ce",
   "outputs": [],
   "execution_count": 3
  },
  {
   "metadata": {
    "ExecuteTime": {
     "end_time": "2024-08-11T20:54:44.679595Z",
     "start_time": "2024-08-11T20:54:42.414506Z"
    }
   },
   "cell_type": "code",
   "source": [
    "owner_list = []\n",
    "for owner_id in matchups['owner_id'].unique():\n",
    "    owner_list.append(User.get_user(owner_id))\n",
    "owners = pd.DataFrame(owner_list)\n",
    "matchups = pd.merge(matchups, owners, left_on='owner_id', right_on='user_id', how='inner')"
   ],
   "id": "b2105593b4b4c57",
   "outputs": [],
   "execution_count": 4
  },
  {
   "metadata": {
    "ExecuteTime": {
     "end_time": "2024-08-11T23:01:24.215561Z",
     "start_time": "2024-08-11T23:01:24.212107Z"
    }
   },
   "cell_type": "code",
   "source": "matchups.columns",
   "id": "27c7b264310b1ca",
   "outputs": [
    {
     "data": {
      "text/plain": [
       "7"
      ]
     },
     "execution_count": 38,
     "metadata": {},
     "output_type": "execute_result"
    }
   ],
   "execution_count": 38
  },
  {
   "metadata": {
    "ExecuteTime": {
     "end_time": "2024-08-11T23:26:30.639114Z",
     "start_time": "2024-08-11T23:26:29.754444Z"
    }
   },
   "cell_type": "code",
   "source": [
    "def calculate_points_against(row):\n",
    "    points_against = matchups.loc[matchups['year'] == row['year']].loc[matchups['week'] == row['week']].loc[matchups['matchup_id'] == row['matchup_id']].loc[matchups['owner_id'] != row['owner_id']]['points'].values\n",
    "    if len(points_against) == 1:\n",
    "        return points_against[0]\n",
    "    else:\n",
    "        return 0\n",
    "matchups['points_against'] = matchups.apply(calculate_points_against, axis=1)"
   ],
   "id": "e1f9963e645098f",
   "outputs": [],
   "execution_count": 57
  },
  {
   "metadata": {
    "ExecuteTime": {
     "end_time": "2024-08-11T23:28:30.619877Z",
     "start_time": "2024-08-11T23:28:30.609286Z"
    }
   },
   "cell_type": "code",
   "source": "matchups.loc[matchups['type'] == 'regular'].loc[matchups['year'] == 2023].groupby(['username'])['points_against'].sum()",
   "id": "cfc13b9df0faf8e5",
   "outputs": [
    {
     "data": {
      "text/plain": [
       "username\n",
       "acarlough        1468.45\n",
       "almostwinning    1519.63\n",
       "bigoledoinks     1385.72\n",
       "callentrail      1578.39\n",
       "coolguytrav      1613.30\n",
       "cramseyio        1563.58\n",
       "exoentropy       1467.21\n",
       "jyarrow          1535.64\n",
       "lrich91          1478.36\n",
       "markhambone      1378.42\n",
       "mattkman         1691.05\n",
       "novaprice        1473.96\n",
       "Name: points_against, dtype: float64"
      ]
     },
     "execution_count": 59,
     "metadata": {},
     "output_type": "execute_result"
    }
   ],
   "execution_count": 59
  },
  {
   "metadata": {
    "ExecuteTime": {
     "end_time": "2024-08-11T21:09:11.289129Z",
     "start_time": "2024-08-11T21:09:11.282210Z"
    }
   },
   "cell_type": "code",
   "source": "matchups.loc[matchups['type'] == 'playoff'].groupby(['username'])['points'].sum()",
   "id": "8a115b0e61a785e",
   "outputs": [
    {
     "data": {
      "text/plain": [
       "username\n",
       "acarlough        1363.15\n",
       "almostwinning    1441.71\n",
       "bigoledoinks     1474.59\n",
       "callentrail      1589.59\n",
       "coolguytrav      1472.75\n",
       "cramseyio        1417.09\n",
       "exoentropy       1582.88\n",
       "jyarrow          1356.66\n",
       "lrich91          1404.21\n",
       "markhambone      1631.08\n",
       "mattkman         1676.75\n",
       "novaprice        1593.44\n",
       "Name: points, dtype: float64"
      ]
     },
     "execution_count": 8,
     "metadata": {},
     "output_type": "execute_result"
    }
   ],
   "execution_count": 8
  },
  {
   "metadata": {},
   "cell_type": "code",
   "outputs": [],
   "execution_count": null,
   "source": "",
   "id": "a3687a9ef5596364"
  }
 ],
 "metadata": {
  "kernelspec": {
   "display_name": "Python 3",
   "language": "python",
   "name": "python3"
  },
  "language_info": {
   "codemirror_mode": {
    "name": "ipython",
    "version": 2
   },
   "file_extension": ".py",
   "mimetype": "text/x-python",
   "name": "python",
   "nbconvert_exporter": "python",
   "pygments_lexer": "ipython2",
   "version": "2.7.6"
  }
 },
 "nbformat": 4,
 "nbformat_minor": 5
}
