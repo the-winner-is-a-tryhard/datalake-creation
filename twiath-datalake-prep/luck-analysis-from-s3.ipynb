{
 "cells": [
  {
   "cell_type": "code",
   "id": "initial_id",
   "metadata": {
    "collapsed": true,
    "ExecuteTime": {
     "end_time": "2024-08-11T18:15:51.555761Z",
     "start_time": "2024-08-11T18:15:48.763423Z"
    }
   },
   "source": [
    "%pip install pandas\n",
    "%pip install pyarrow"
   ],
   "outputs": [
    {
     "name": "stdout",
     "output_type": "stream",
     "text": [
      "Requirement already satisfied: pandas in /Users/scottenriquez/opt/anaconda3/lib/python3.9/site-packages (1.3.4)\r\n",
      "Requirement already satisfied: python-dateutil>=2.7.3 in /Users/scottenriquez/opt/anaconda3/lib/python3.9/site-packages (from pandas) (2.8.2)\r\n",
      "Requirement already satisfied: pytz>=2017.3 in /Users/scottenriquez/opt/anaconda3/lib/python3.9/site-packages (from pandas) (2021.3)\r\n",
      "Requirement already satisfied: numpy>=1.17.3 in /Users/scottenriquez/opt/anaconda3/lib/python3.9/site-packages (from pandas) (1.20.3)\r\n",
      "Requirement already satisfied: six>=1.5 in /Users/scottenriquez/opt/anaconda3/lib/python3.9/site-packages (from python-dateutil>=2.7.3->pandas) (1.16.0)\r\n",
      "Note: you may need to restart the kernel to use updated packages.\n",
      "Requirement already satisfied: pyarrow in /Users/scottenriquez/opt/anaconda3/lib/python3.9/site-packages (16.1.0)\r\n",
      "Requirement already satisfied: numpy>=1.16.6 in /Users/scottenriquez/opt/anaconda3/lib/python3.9/site-packages (from pyarrow) (1.20.3)\r\n",
      "Note: you may need to restart the kernel to use updated packages.\n"
     ]
    }
   ],
   "execution_count": 1
  },
  {
   "metadata": {
    "ExecuteTime": {
     "end_time": "2024-08-11T18:25:35.801319Z",
     "start_time": "2024-08-11T18:25:35.750687Z"
    }
   },
   "cell_type": "code",
   "source": [
    "import pandas as pd\n",
    "from sleeperpy import User"
   ],
   "id": "43766c6f36cf6547",
   "outputs": [],
   "execution_count": 11
  },
  {
   "metadata": {
    "ExecuteTime": {
     "end_time": "2024-08-11T18:16:02.349029Z",
     "start_time": "2024-08-11T18:15:56.396529Z"
    }
   },
   "cell_type": "code",
   "source": "matchups = pd.read_parquet('s3://datalakestack-datalakebucket0256ea8e-jlou2zsfqxmr/sleeper/matchups/')",
   "id": "59b6b6bf76b4f4ce",
   "outputs": [],
   "execution_count": 3
  },
  {
   "metadata": {
    "ExecuteTime": {
     "end_time": "2024-08-11T18:30:31.845682Z",
     "start_time": "2024-08-11T18:30:30.145179Z"
    }
   },
   "cell_type": "code",
   "source": [
    "owner_list = []\n",
    "for owner_id in matchups['owner_id'].unique():\n",
    "    owner_list.append(User.get_user(owner_id))\n",
    "owners = pd.DataFrame(owner_list)\n",
    "matchups = pd.merge(matchups, owners, left_on='owner_id', right_on='user_id', how='inner')"
   ],
   "id": "b2105593b4b4c57",
   "outputs": [
    {
     "name": "stdout",
     "output_type": "stream",
     "text": [
      "    co_owners       keepers           league_id            owner_id  \\\n",
      "0        None  [4137, 4881]  541384381865115648  463128802726244352   \n",
      "1        None  [4137, 4881]  541384381865115648  463128802726244352   \n",
      "2        None  [4137, 4881]  541384381865115648  463128802726244352   \n",
      "3        None  [4137, 4881]  541384381865115648  463128802726244352   \n",
      "4        None  [4137, 4881]  541384381865115648  463128802726244352   \n",
      "..        ...           ...                 ...                 ...   \n",
      "847      None        [6786]  961113588070985728  540275269586792448   \n",
      "848      None        [6786]  961113588070985728  540275269586792448   \n",
      "849      None        [6786]  961113588070985728  540275269586792448   \n",
      "850      None        [6786]  961113588070985728  540275269586792448   \n",
      "851      None        [6786]  961113588070985728  540275269586792448   \n",
      "\n",
      "    player_map                                          players_x reserve  \\\n",
      "0         None  [2238, 3895, 4068, 4137, 4881, 5022, 5038, 585...    None   \n",
      "1         None  [2238, 3895, 4068, 4137, 4881, 5022, 5038, 585...    None   \n",
      "2         None  [2238, 3895, 4068, 4137, 4881, 5022, 5038, 585...    None   \n",
      "3         None  [2238, 3895, 4068, 4137, 4881, 5022, 5038, 585...    None   \n",
      "4         None  [2238, 3895, 4068, 4137, 4881, 5022, 5038, 585...    None   \n",
      "..         ...                                                ...     ...   \n",
      "847       None  [2216, 2309, 4089, 421, 5850, 6786, 6790, 7021...    None   \n",
      "848       None  [2216, 2309, 4089, 421, 5850, 6786, 6790, 7021...    None   \n",
      "849       None  [2216, 2309, 4089, 421, 5850, 6786, 6790, 7021...    None   \n",
      "850       None  [2216, 2309, 4089, 421, 5850, 6786, 6790, 7021...    None   \n",
      "851       None  [2216, 2309, 4089, 421, 5850, 6786, 6790, 7021...    None   \n",
      "\n",
      "     roster_id                                         starters_x  taxi  ...  \\\n",
      "0            1  [4881, 6156, 6813, 6063, 6803, 5022, 4068, 585...  None  ...   \n",
      "1            1  [4881, 6156, 6813, 6063, 6803, 5022, 4068, 585...  None  ...   \n",
      "2            1  [4881, 6156, 6813, 6063, 6803, 5022, 4068, 585...  None  ...   \n",
      "3            1  [4881, 6156, 6813, 6063, 6803, 5022, 4068, 585...  None  ...   \n",
      "4            1  [4881, 6156, 6813, 6063, 6803, 5022, 4068, 585...  None  ...   \n",
      "..         ...                                                ...   ...  ...   \n",
      "847         12  [421, 7608, 8143, 2216, 7596, 4089, 6790, 6786...  None  ...   \n",
      "848         12  [421, 7608, 8143, 2216, 7596, 4089, 6790, 6786...  None  ...   \n",
      "849         12  [421, 7608, 8143, 2216, 7596, 4089, 6790, 6786...  None  ...   \n",
      "850         12  [421, 7608, 8143, 2216, 7596, 4089, 6790, 6786...  None  ...   \n",
      "851         12  [421, 7608, 8143, 2216, 7596, 4089, 6790, 6786...  None  ...   \n",
      "\n",
      "     pending phone real_name  solicitable summoner_name summoner_region token  \\\n",
      "0       None  None      None         None          None            None  None   \n",
      "1       None  None      None         None          None            None  None   \n",
      "2       None  None      None         None          None            None  None   \n",
      "3       None  None      None         None          None            None  None   \n",
      "4       None  None      None         None          None            None  None   \n",
      "..       ...   ...       ...          ...           ...             ...   ...   \n",
      "847     None  None      None         None          None            None  None   \n",
      "848     None  None      None         None          None            None  None   \n",
      "849     None  None      None         None          None            None  None   \n",
      "850     None  None      None         None          None            None  None   \n",
      "851     None  None      None         None          None            None  None   \n",
      "\n",
      "                user_id      username verification  \n",
      "0    463128802726244352  bigoledoinks         None  \n",
      "1    463128802726244352  bigoledoinks         None  \n",
      "2    463128802726244352  bigoledoinks         None  \n",
      "3    463128802726244352  bigoledoinks         None  \n",
      "4    463128802726244352  bigoledoinks         None  \n",
      "..                  ...           ...          ...  \n",
      "847  540275269586792448   callentrail         None  \n",
      "848  540275269586792448   callentrail         None  \n",
      "849  540275269586792448   callentrail         None  \n",
      "850  540275269586792448   callentrail         None  \n",
      "851  540275269586792448   callentrail         None  \n",
      "\n",
      "[852 rows x 38 columns]\n"
     ]
    }
   ],
   "execution_count": 16
  },
  {
   "metadata": {
    "ExecuteTime": {
     "end_time": "2024-08-11T18:43:29.087688Z",
     "start_time": "2024-08-11T18:43:29.082645Z"
    }
   },
   "cell_type": "code",
   "source": "matchups.columns",
   "id": "27c7b264310b1ca",
   "outputs": [
    {
     "data": {
      "text/plain": [
       "Index(['co_owners', 'keepers', 'league_id', 'owner_id', 'player_map',\n",
       "       'players_x', 'reserve', 'roster_id', 'starters_x', 'taxi', 'points',\n",
       "       'players_y', 'custom_points', 'matchup_id', 'starters_y',\n",
       "       'starters_points', 'players_points', 'avatar', 'cookies', 'created',\n",
       "       'currencies', 'data_updated', 'deleted', 'display_name', 'email',\n",
       "       'is_bot', 'metadata', 'notifications', 'pending', 'phone', 'real_name',\n",
       "       'solicitable', 'summoner_name', 'summoner_region', 'token', 'user_id',\n",
       "       'username', 'verification'],\n",
       "      dtype='object')"
      ]
     },
     "execution_count": 19,
     "metadata": {},
     "output_type": "execute_result"
    }
   ],
   "execution_count": 19
  },
  {
   "metadata": {
    "ExecuteTime": {
     "end_time": "2024-08-11T18:43:45.618875Z",
     "start_time": "2024-08-11T18:43:45.608308Z"
    }
   },
   "cell_type": "code",
   "source": "matchups.groupby('username')['points'].sum()",
   "id": "cfc13b9df0faf8e5",
   "outputs": [
    {
     "data": {
      "text/plain": [
       "username\n",
       "acarlough        6873.72\n",
       "almostwinning    6730.73\n",
       "bigoledoinks     6852.55\n",
       "callentrail      7277.56\n",
       "coolguytrav      7086.03\n",
       "cramseyio        6788.61\n",
       "exoentropy       7362.29\n",
       "jyarrow          6762.85\n",
       "lrich91          6400.17\n",
       "markhambone      7201.68\n",
       "mattkman         7090.06\n",
       "novaprice        7104.40\n",
       "Name: points, dtype: float64"
      ]
     },
     "execution_count": 20,
     "metadata": {},
     "output_type": "execute_result"
    }
   ],
   "execution_count": 20
  },
  {
   "metadata": {},
   "cell_type": "code",
   "outputs": [],
   "execution_count": null,
   "source": "",
   "id": "a1204c53cc576870"
  }
 ],
 "metadata": {
  "kernelspec": {
   "display_name": "Python 3",
   "language": "python",
   "name": "python3"
  },
  "language_info": {
   "codemirror_mode": {
    "name": "ipython",
    "version": 2
   },
   "file_extension": ".py",
   "mimetype": "text/x-python",
   "name": "python",
   "nbconvert_exporter": "python",
   "pygments_lexer": "ipython2",
   "version": "2.7.6"
  }
 },
 "nbformat": 4,
 "nbformat_minor": 5
}
